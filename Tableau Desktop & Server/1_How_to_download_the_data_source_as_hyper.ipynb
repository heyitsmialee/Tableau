{
  "nbformat": 4,
  "nbformat_minor": 0,
  "metadata": {
    "colab": {
      "provenance": []
    },
    "kernelspec": {
      "name": "python3",
      "display_name": "Python 3"
    },
    "language_info": {
      "name": "python"
    }
  },
  "cells": [
    {
      "cell_type": "code",
      "source": [
        "!pip install tableauserverclient"
      ],
      "metadata": {
        "colab": {
          "base_uri": "https://localhost:8080/"
        },
        "id": "w6wOFuBLbaCK",
        "outputId": "e61fc059-3f62-4d19-bf70-c725db832d8d"
      },
      "execution_count": 2,
      "outputs": [
        {
          "output_type": "stream",
          "name": "stdout",
          "text": [
            "Collecting tableauserverclient\n",
            "  Downloading tableauserverclient-0.30-py3-none-any.whl (137 kB)\n",
            "\u001b[2K     \u001b[90m━━━━━━━━━━━━━━━━━━━━━━━━━━━━━━━━━━━━━━━━\u001b[0m \u001b[32m137.7/137.7 kB\u001b[0m \u001b[31m1.2 MB/s\u001b[0m eta \u001b[36m0:00:00\u001b[0m\n",
            "\u001b[?25hRequirement already satisfied: defusedxml>=0.7.1 in /usr/local/lib/python3.10/dist-packages (from tableauserverclient) (0.7.1)\n",
            "Requirement already satisfied: packaging>=23.1 in /usr/local/lib/python3.10/dist-packages (from tableauserverclient) (23.2)\n",
            "Requirement already satisfied: requests>=2.31 in /usr/local/lib/python3.10/dist-packages (from tableauserverclient) (2.31.0)\n",
            "Requirement already satisfied: urllib3==2.0.7 in /usr/local/lib/python3.10/dist-packages (from tableauserverclient) (2.0.7)\n",
            "Requirement already satisfied: charset-normalizer<4,>=2 in /usr/local/lib/python3.10/dist-packages (from requests>=2.31->tableauserverclient) (3.3.2)\n",
            "Requirement already satisfied: idna<4,>=2.5 in /usr/local/lib/python3.10/dist-packages (from requests>=2.31->tableauserverclient) (3.6)\n",
            "Requirement already satisfied: certifi>=2017.4.17 in /usr/local/lib/python3.10/dist-packages (from requests>=2.31->tableauserverclient) (2023.11.17)\n",
            "Installing collected packages: tableauserverclient\n",
            "Successfully installed tableauserverclient-0.30\n"
          ]
        }
      ]
    },
    {
      "cell_type": "code",
      "execution_count": 3,
      "metadata": {
        "id": "aHauwGG2ZjCb"
      },
      "outputs": [],
      "source": [
        "import tableauserverclient as TSC\n",
        "from pathlib import Path\n",
        "import zipfile"
      ]
    },
    {
      "cell_type": "code",
      "source": [
        "# tableau server ID, PW\n",
        "tableau_auth = TSC.TableauAuth('ID','PW',site_id='')\n",
        "\n",
        "# server adress\n",
        "server = TSC.Server('SERVER ADDRESS',use_server_version=True)\n",
        "server.auth.sign_in(tableau_auth)"
      ],
      "metadata": {
        "id": "TVa2JWDfZnwY"
      },
      "execution_count": null,
      "outputs": []
    },
    {
      "cell_type": "code",
      "source": [
        "# Get a list of data sources\n",
        "all_datasources, pagination_item = server.datasources.get()\n",
        "\n",
        "print(\"\\nThere are {} datasources on site: \".format(pagination_item.total_available))\n",
        "\n",
        "all_datasource_name = [datasource.name for datasource in all_datasources]\n",
        "all_datasource_id = [datasource.id for datasource in all_datasources]"
      ],
      "metadata": {
        "id": "YJZ64wltbB0M"
      },
      "execution_count": null,
      "outputs": []
    },
    {
      "cell_type": "code",
      "source": [
        "# define datasource\n",
        "datasource = 'DATA_SOURCE NAME'\n",
        "\n",
        "datasource_id = [i.id for i in all_datasources if i.name==datasource]\n",
        "datasource_name = [i.name for i in all_datasources if i.name==datasource]\n",
        "\n",
        "# make tdsx file\n",
        "with server.auth.sign_in(tableau_auth):\n",
        "\tserver.datasources.download( datasource_id , filepath='DOWNLOAD ADDRESS' )\n",
        "\n",
        "# tdsx to zip\n",
        "p=Path('DOWNLOAD ADDRESS.tdsx')\n",
        "p.rename(p.with_suffix('.zip'))\n",
        "\n",
        "# zip to hyper\n",
        "HyperFileName='DOWNLOAD_NAME.hyper'\n",
        "\n",
        "with zipfile.ZipFile('DOWNLOAD_NAME.zip') as zip_temp:\n",
        "    for zip_info in zip_temp.infolist():\n",
        "        if zip_info.filename[-1] == '/':\n",
        "            continue\n",
        "        if zip_info.filename.endswith('.hyper'):\n",
        "            zip_info.filename = HyperFileName\n",
        "            zip_temp.extract(zip_info, 'DOWNLOAD ADDRESS')"
      ],
      "metadata": {
        "id": "48FkJNS8bEB0"
      },
      "execution_count": null,
      "outputs": []
    }
  ]
}