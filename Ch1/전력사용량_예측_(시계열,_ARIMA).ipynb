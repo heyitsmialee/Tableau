{
  "nbformat": 4,
  "nbformat_minor": 0,
  "metadata": {
    "colab": {
      "provenance": []
    },
    "kernelspec": {
      "name": "python3",
      "display_name": "Python 3"
    },
    "language_info": {
      "name": "python"
    }
  },
  "cells": [
    {
      "cell_type": "markdown",
      "source": [
        "# 1. Electrical Energy Prediction EDA"
      ],
      "metadata": {
        "id": "Z0aEx_cfVOkq"
      }
    },
    {
      "cell_type": "code",
      "source": [
        "!pip install pmdarima"
      ],
      "metadata": {
        "colab": {
          "base_uri": "https://localhost:8080/"
        },
        "id": "PORFRYTBEWRF",
        "outputId": "e5b3c894-fd71-4137-d9d1-392bea6ab12d"
      },
      "execution_count": 1,
      "outputs": [
        {
          "output_type": "stream",
          "name": "stdout",
          "text": [
            "Collecting pmdarima\n",
            "  Downloading pmdarima-2.0.4-cp310-cp310-manylinux_2_17_x86_64.manylinux2014_x86_64.manylinux_2_28_x86_64.whl (2.1 MB)\n",
            "\u001b[2K     \u001b[90m━━━━━━━━━━━━━━━━━━━━━━━━━━━━━━━━━━━━━━━━\u001b[0m \u001b[32m2.1/2.1 MB\u001b[0m \u001b[31m10.2 MB/s\u001b[0m eta \u001b[36m0:00:00\u001b[0m\n",
            "\u001b[?25hRequirement already satisfied: joblib>=0.11 in /usr/local/lib/python3.10/dist-packages (from pmdarima) (1.3.2)\n",
            "Requirement already satisfied: Cython!=0.29.18,!=0.29.31,>=0.29 in /usr/local/lib/python3.10/dist-packages (from pmdarima) (3.0.8)\n",
            "Requirement already satisfied: numpy>=1.21.2 in /usr/local/lib/python3.10/dist-packages (from pmdarima) (1.23.5)\n",
            "Requirement already satisfied: pandas>=0.19 in /usr/local/lib/python3.10/dist-packages (from pmdarima) (1.5.3)\n",
            "Requirement already satisfied: scikit-learn>=0.22 in /usr/local/lib/python3.10/dist-packages (from pmdarima) (1.2.2)\n",
            "Requirement already satisfied: scipy>=1.3.2 in /usr/local/lib/python3.10/dist-packages (from pmdarima) (1.11.4)\n",
            "Requirement already satisfied: statsmodels>=0.13.2 in /usr/local/lib/python3.10/dist-packages (from pmdarima) (0.14.1)\n",
            "Requirement already satisfied: urllib3 in /usr/local/lib/python3.10/dist-packages (from pmdarima) (2.0.7)\n",
            "Requirement already satisfied: setuptools!=50.0.0,>=38.6.0 in /usr/local/lib/python3.10/dist-packages (from pmdarima) (67.7.2)\n",
            "Requirement already satisfied: packaging>=17.1 in /usr/local/lib/python3.10/dist-packages (from pmdarima) (23.2)\n",
            "Requirement already satisfied: python-dateutil>=2.8.1 in /usr/local/lib/python3.10/dist-packages (from pandas>=0.19->pmdarima) (2.8.2)\n",
            "Requirement already satisfied: pytz>=2020.1 in /usr/local/lib/python3.10/dist-packages (from pandas>=0.19->pmdarima) (2023.3.post1)\n",
            "Requirement already satisfied: threadpoolctl>=2.0.0 in /usr/local/lib/python3.10/dist-packages (from scikit-learn>=0.22->pmdarima) (3.2.0)\n",
            "Requirement already satisfied: patsy>=0.5.4 in /usr/local/lib/python3.10/dist-packages (from statsmodels>=0.13.2->pmdarima) (0.5.6)\n",
            "Requirement already satisfied: six in /usr/local/lib/python3.10/dist-packages (from patsy>=0.5.4->statsmodels>=0.13.2->pmdarima) (1.16.0)\n",
            "Installing collected packages: pmdarima\n",
            "Successfully installed pmdarima-2.0.4\n"
          ]
        }
      ]
    },
    {
      "cell_type": "code",
      "source": [
        "# 라이브러리 로드\n",
        "import numpy as np\n",
        "import pandas as pd\n",
        "import matplotlib.pyplot as plt\n",
        "from statsmodels.tsa.arima.model import ARIMA\n",
        "from statsmodels.tsa.statespace.sarimax import SARIMAX\n",
        "from statsmodels.tsa.api import ExponentialSmoothing, SimpleExpSmoothing, Holt\n",
        "import itertools\n",
        "from tqdm import tqdm\n"
      ],
      "metadata": {
        "id": "PSaMP6kOaErB"
      },
      "execution_count": 6,
      "outputs": []
    },
    {
      "cell_type": "markdown",
      "source": [
        "## 1-1. Load Data"
      ],
      "metadata": {
        "id": "O1_DxHzUZrGP"
      }
    },
    {
      "cell_type": "code",
      "execution_count": 7,
      "metadata": {
        "id": "9j4MUOtcI4Ls"
      },
      "outputs": [],
      "source": [
        "train = pd.read_csv(\"./train.csv\", encoding='cp949')\n",
        "test = pd.read_csv(\"./test.csv\", encoding = \"cp949\")\n",
        "submission = pd.read_csv(\"./sample_submission.csv\", encoding = \"cp949\")"
      ]
    },
    {
      "cell_type": "code",
      "source": [
        "# 데이터 상단 출력\n",
        "display(train.head)"
      ],
      "metadata": {
        "id": "bKTAjpWyaWtf",
        "colab": {
          "base_uri": "https://localhost:8080/",
          "height": 499
        },
        "outputId": "0be38b63-5113-40ae-ebe6-7ea47f48781c"
      },
      "execution_count": 8,
      "outputs": [
        {
          "output_type": "display_data",
          "data": {
            "text/plain": [
              "<bound method NDFrame.head of         num      date_time  전력사용량(kWh)  기온(°C)  풍속(m/s)  습도(%)  강수량(mm)  \\\n",
              "0         1  2020-06-01 00    8179.056    17.6      2.5   92.0      0.8   \n",
              "1         1  2020-06-01 01    8135.640    17.7      2.9   91.0      0.3   \n",
              "2         1  2020-06-01 02    8107.128    17.5      3.2   91.0      0.0   \n",
              "3         1  2020-06-01 03    8048.808    17.1      3.2   91.0      0.0   \n",
              "4         1  2020-06-01 04    8043.624    17.0      3.3   92.0      0.0   \n",
              "...     ...            ...         ...     ...      ...    ...      ...   \n",
              "122395   60  2020-08-24 19    4114.368    27.8      2.3   68.0      0.0   \n",
              "122396   60  2020-08-24 20    3975.696    27.3      1.2   71.0      0.0   \n",
              "122397   60  2020-08-24 21    3572.208    27.3      1.8   71.0      0.0   \n",
              "122398   60  2020-08-24 22    3299.184    27.1      1.8   74.0      0.0   \n",
              "122399   60  2020-08-24 23    3204.576    27.1      2.6   75.0      0.0   \n",
              "\n",
              "        일조(hr)  비전기냉방설비운영  태양광보유  \n",
              "0          0.0        0.0    0.0  \n",
              "1          0.0        0.0    0.0  \n",
              "2          0.0        0.0    0.0  \n",
              "3          0.0        0.0    0.0  \n",
              "4          0.0        0.0    0.0  \n",
              "...        ...        ...    ...  \n",
              "122395     0.7        1.0    1.0  \n",
              "122396     0.0        1.0    1.0  \n",
              "122397     0.0        1.0    1.0  \n",
              "122398     0.0        1.0    1.0  \n",
              "122399     0.0        1.0    1.0  \n",
              "\n",
              "[122400 rows x 10 columns]>"
            ]
          },
          "metadata": {}
        }
      ]
    },
    {
      "cell_type": "code",
      "source": [
        "# 데이터 상단 출력\n",
        "display(test.head)"
      ],
      "metadata": {
        "id": "XaS7I_X8gVZm",
        "colab": {
          "base_uri": "https://localhost:8080/",
          "height": 499
        },
        "outputId": "0527c8e6-f4e7-4bbd-cf0c-47a833cff992"
      },
      "execution_count": 9,
      "outputs": [
        {
          "output_type": "display_data",
          "data": {
            "text/plain": [
              "<bound method NDFrame.head of        num      date_time  기온(°C)  풍속(m/s)  습도(%)  강수량(mm, 6시간)  일조(hr, 3시간)  \\\n",
              "0        1  2020-08-25 00    27.8      1.5   74.0           0.0          0.0   \n",
              "1        1  2020-08-25 01     NaN      NaN    NaN           NaN          NaN   \n",
              "2        1  2020-08-25 02     NaN      NaN    NaN           NaN          NaN   \n",
              "3        1  2020-08-25 03    27.3      1.1   78.0           NaN          0.0   \n",
              "4        1  2020-08-25 04     NaN      NaN    NaN           NaN          NaN   \n",
              "...    ...            ...     ...      ...    ...           ...          ...   \n",
              "10075   60  2020-08-31 19     NaN      NaN    NaN           NaN          NaN   \n",
              "10076   60  2020-08-31 20     NaN      NaN    NaN           NaN          NaN   \n",
              "10077   60  2020-08-31 21    27.9      4.1   68.0           NaN          0.0   \n",
              "10078   60  2020-08-31 22     NaN      NaN    NaN           NaN          NaN   \n",
              "10079   60  2020-08-31 23     NaN      NaN    NaN           NaN          NaN   \n",
              "\n",
              "       비전기냉방설비운영  태양광보유  \n",
              "0            NaN    NaN  \n",
              "1            NaN    NaN  \n",
              "2            NaN    NaN  \n",
              "3            NaN    NaN  \n",
              "4            NaN    NaN  \n",
              "...          ...    ...  \n",
              "10075        NaN    NaN  \n",
              "10076        NaN    NaN  \n",
              "10077        1.0    1.0  \n",
              "10078        NaN    NaN  \n",
              "10079        NaN    NaN  \n",
              "\n",
              "[10080 rows x 9 columns]>"
            ]
          },
          "metadata": {}
        }
      ]
    },
    {
      "cell_type": "code",
      "source": [
        "# 데이터 상단 출력\n",
        "display(submission.head)"
      ],
      "metadata": {
        "id": "Nk_wykLZgWyJ",
        "colab": {
          "base_uri": "https://localhost:8080/",
          "height": 267
        },
        "outputId": "3d9630ae-bfc2-4a8f-998b-848d7c16bd25"
      },
      "execution_count": 10,
      "outputs": [
        {
          "output_type": "display_data",
          "data": {
            "text/plain": [
              "<bound method NDFrame.head of           num_date_time  answer\n",
              "0       1 2020-08-25 00       0\n",
              "1       1 2020-08-25 01       0\n",
              "2       1 2020-08-25 02       0\n",
              "3       1 2020-08-25 03       0\n",
              "4       1 2020-08-25 04       0\n",
              "...                 ...     ...\n",
              "10075  60 2020-08-31 19       0\n",
              "10076  60 2020-08-31 20       0\n",
              "10077  60 2020-08-31 21       0\n",
              "10078  60 2020-08-31 22       0\n",
              "10079  60 2020-08-31 23       0\n",
              "\n",
              "[10080 rows x 2 columns]>"
            ]
          },
          "metadata": {}
        }
      ]
    },
    {
      "cell_type": "code",
      "source": [
        "# 데이터 크기 확인\n",
        "display(train.shape, test.shape)"
      ],
      "metadata": {
        "id": "YkxpPyncgS6w",
        "colab": {
          "base_uri": "https://localhost:8080/",
          "height": 53
        },
        "outputId": "54eb8f19-4191-43af-d157-c58ebbc24c4b"
      },
      "execution_count": 11,
      "outputs": [
        {
          "output_type": "display_data",
          "data": {
            "text/plain": [
              "(122400, 10)"
            ]
          },
          "metadata": {}
        },
        {
          "output_type": "display_data",
          "data": {
            "text/plain": [
              "(10080, 9)"
            ]
          },
          "metadata": {}
        }
      ]
    },
    {
      "cell_type": "markdown",
      "source": [
        "🌳 10080 * 9 => 60개 건물 * 7일 * 24시간 = 10080"
      ],
      "metadata": {
        "id": "WTwN3-mocmse"
      }
    },
    {
      "cell_type": "code",
      "source": [
        "# 데이터 형식 확인\n",
        "train.dtypes"
      ],
      "metadata": {
        "id": "RUTU_YLmcmXo",
        "colab": {
          "base_uri": "https://localhost:8080/"
        },
        "outputId": "c95f33b3-fb13-4f2e-bfb5-7aaddac08316"
      },
      "execution_count": 12,
      "outputs": [
        {
          "output_type": "execute_result",
          "data": {
            "text/plain": [
              "num             int64\n",
              "date_time      object\n",
              "전력사용량(kWh)    float64\n",
              "기온(°C)        float64\n",
              "풍속(m/s)       float64\n",
              "습도(%)         float64\n",
              "강수량(mm)       float64\n",
              "일조(hr)        float64\n",
              "비전기냉방설비운영     float64\n",
              "태양광보유         float64\n",
              "dtype: object"
            ]
          },
          "metadata": {},
          "execution_count": 12
        }
      ]
    },
    {
      "cell_type": "code",
      "source": [
        "# 데이터 형식 확인\n",
        "test.dtypes"
      ],
      "metadata": {
        "id": "WTPy4BR-gm1N",
        "colab": {
          "base_uri": "https://localhost:8080/"
        },
        "outputId": "10858868-7fa9-4211-9250-9ba63a84ef3c"
      },
      "execution_count": 13,
      "outputs": [
        {
          "output_type": "execute_result",
          "data": {
            "text/plain": [
              "num               int64\n",
              "date_time        object\n",
              "기온(°C)          float64\n",
              "풍속(m/s)         float64\n",
              "습도(%)           float64\n",
              "강수량(mm, 6시간)    float64\n",
              "일조(hr, 3시간)     float64\n",
              "비전기냉방설비운영       float64\n",
              "태양광보유           float64\n",
              "dtype: object"
            ]
          },
          "metadata": {},
          "execution_count": 13
        }
      ]
    },
    {
      "cell_type": "code",
      "source": [
        "# 데이터 기초통계량 확인\n",
        "display(train.describe())"
      ],
      "metadata": {
        "id": "gS68zLrsdyNE",
        "colab": {
          "base_uri": "https://localhost:8080/",
          "height": 300
        },
        "outputId": "38d8aaa0-8a00-4df9-bcdf-6bca5ae4ce09"
      },
      "execution_count": 14,
      "outputs": [
        {
          "output_type": "display_data",
          "data": {
            "text/plain": [
              "                 num     전력사용량(kWh)         기온(°C)        풍속(m/s)  \\\n",
              "count  122400.000000  122400.000000  122400.000000  122400.000000   \n",
              "mean       30.500000    2324.830866      24.251713       2.151641   \n",
              "std        17.318173    2058.999326       3.407902       1.514475   \n",
              "min         1.000000       0.000000      11.100000       0.000000   \n",
              "25%        15.750000    1055.268000      21.800000       1.100000   \n",
              "50%        30.500000    1700.352000      24.200000       1.900000   \n",
              "75%        45.250000    2780.487000      26.500000       2.900000   \n",
              "max        60.000000   17739.225000      36.300000      20.100000   \n",
              "\n",
              "               습도(%)        강수량(mm)         일조(hr)      비전기냉방설비운영  \\\n",
              "count  122400.000000  122400.000000  122400.000000  122400.000000   \n",
              "mean       80.169848       0.514989       0.213533       0.683333   \n",
              "std        15.525862       2.624505       0.370517       0.465178   \n",
              "min        19.000000       0.000000       0.000000       0.000000   \n",
              "25%        70.000000       0.000000       0.000000       0.000000   \n",
              "50%        84.000000       0.000000       0.000000       1.000000   \n",
              "75%        93.000000       0.000000       0.300000       1.000000   \n",
              "max       100.000000      81.500000       1.000000       1.000000   \n",
              "\n",
              "               태양광보유  \n",
              "count  122400.000000  \n",
              "mean        0.483333  \n",
              "std         0.499724  \n",
              "min         0.000000  \n",
              "25%         0.000000  \n",
              "50%         0.000000  \n",
              "75%         1.000000  \n",
              "max         1.000000  "
            ],
            "text/html": [
              "\n",
              "  <div id=\"df-47afaf1d-c5b1-49be-b546-a8881ee480ae\" class=\"colab-df-container\">\n",
              "    <div>\n",
              "<style scoped>\n",
              "    .dataframe tbody tr th:only-of-type {\n",
              "        vertical-align: middle;\n",
              "    }\n",
              "\n",
              "    .dataframe tbody tr th {\n",
              "        vertical-align: top;\n",
              "    }\n",
              "\n",
              "    .dataframe thead th {\n",
              "        text-align: right;\n",
              "    }\n",
              "</style>\n",
              "<table border=\"1\" class=\"dataframe\">\n",
              "  <thead>\n",
              "    <tr style=\"text-align: right;\">\n",
              "      <th></th>\n",
              "      <th>num</th>\n",
              "      <th>전력사용량(kWh)</th>\n",
              "      <th>기온(°C)</th>\n",
              "      <th>풍속(m/s)</th>\n",
              "      <th>습도(%)</th>\n",
              "      <th>강수량(mm)</th>\n",
              "      <th>일조(hr)</th>\n",
              "      <th>비전기냉방설비운영</th>\n",
              "      <th>태양광보유</th>\n",
              "    </tr>\n",
              "  </thead>\n",
              "  <tbody>\n",
              "    <tr>\n",
              "      <th>count</th>\n",
              "      <td>122400.000000</td>\n",
              "      <td>122400.000000</td>\n",
              "      <td>122400.000000</td>\n",
              "      <td>122400.000000</td>\n",
              "      <td>122400.000000</td>\n",
              "      <td>122400.000000</td>\n",
              "      <td>122400.000000</td>\n",
              "      <td>122400.000000</td>\n",
              "      <td>122400.000000</td>\n",
              "    </tr>\n",
              "    <tr>\n",
              "      <th>mean</th>\n",
              "      <td>30.500000</td>\n",
              "      <td>2324.830866</td>\n",
              "      <td>24.251713</td>\n",
              "      <td>2.151641</td>\n",
              "      <td>80.169848</td>\n",
              "      <td>0.514989</td>\n",
              "      <td>0.213533</td>\n",
              "      <td>0.683333</td>\n",
              "      <td>0.483333</td>\n",
              "    </tr>\n",
              "    <tr>\n",
              "      <th>std</th>\n",
              "      <td>17.318173</td>\n",
              "      <td>2058.999326</td>\n",
              "      <td>3.407902</td>\n",
              "      <td>1.514475</td>\n",
              "      <td>15.525862</td>\n",
              "      <td>2.624505</td>\n",
              "      <td>0.370517</td>\n",
              "      <td>0.465178</td>\n",
              "      <td>0.499724</td>\n",
              "    </tr>\n",
              "    <tr>\n",
              "      <th>min</th>\n",
              "      <td>1.000000</td>\n",
              "      <td>0.000000</td>\n",
              "      <td>11.100000</td>\n",
              "      <td>0.000000</td>\n",
              "      <td>19.000000</td>\n",
              "      <td>0.000000</td>\n",
              "      <td>0.000000</td>\n",
              "      <td>0.000000</td>\n",
              "      <td>0.000000</td>\n",
              "    </tr>\n",
              "    <tr>\n",
              "      <th>25%</th>\n",
              "      <td>15.750000</td>\n",
              "      <td>1055.268000</td>\n",
              "      <td>21.800000</td>\n",
              "      <td>1.100000</td>\n",
              "      <td>70.000000</td>\n",
              "      <td>0.000000</td>\n",
              "      <td>0.000000</td>\n",
              "      <td>0.000000</td>\n",
              "      <td>0.000000</td>\n",
              "    </tr>\n",
              "    <tr>\n",
              "      <th>50%</th>\n",
              "      <td>30.500000</td>\n",
              "      <td>1700.352000</td>\n",
              "      <td>24.200000</td>\n",
              "      <td>1.900000</td>\n",
              "      <td>84.000000</td>\n",
              "      <td>0.000000</td>\n",
              "      <td>0.000000</td>\n",
              "      <td>1.000000</td>\n",
              "      <td>0.000000</td>\n",
              "    </tr>\n",
              "    <tr>\n",
              "      <th>75%</th>\n",
              "      <td>45.250000</td>\n",
              "      <td>2780.487000</td>\n",
              "      <td>26.500000</td>\n",
              "      <td>2.900000</td>\n",
              "      <td>93.000000</td>\n",
              "      <td>0.000000</td>\n",
              "      <td>0.300000</td>\n",
              "      <td>1.000000</td>\n",
              "      <td>1.000000</td>\n",
              "    </tr>\n",
              "    <tr>\n",
              "      <th>max</th>\n",
              "      <td>60.000000</td>\n",
              "      <td>17739.225000</td>\n",
              "      <td>36.300000</td>\n",
              "      <td>20.100000</td>\n",
              "      <td>100.000000</td>\n",
              "      <td>81.500000</td>\n",
              "      <td>1.000000</td>\n",
              "      <td>1.000000</td>\n",
              "      <td>1.000000</td>\n",
              "    </tr>\n",
              "  </tbody>\n",
              "</table>\n",
              "</div>\n",
              "    <div class=\"colab-df-buttons\">\n",
              "\n",
              "  <div class=\"colab-df-container\">\n",
              "    <button class=\"colab-df-convert\" onclick=\"convertToInteractive('df-47afaf1d-c5b1-49be-b546-a8881ee480ae')\"\n",
              "            title=\"Convert this dataframe to an interactive table.\"\n",
              "            style=\"display:none;\">\n",
              "\n",
              "  <svg xmlns=\"http://www.w3.org/2000/svg\" height=\"24px\" viewBox=\"0 -960 960 960\">\n",
              "    <path d=\"M120-120v-720h720v720H120Zm60-500h600v-160H180v160Zm220 220h160v-160H400v160Zm0 220h160v-160H400v160ZM180-400h160v-160H180v160Zm440 0h160v-160H620v160ZM180-180h160v-160H180v160Zm440 0h160v-160H620v160Z\"/>\n",
              "  </svg>\n",
              "    </button>\n",
              "\n",
              "  <style>\n",
              "    .colab-df-container {\n",
              "      display:flex;\n",
              "      gap: 12px;\n",
              "    }\n",
              "\n",
              "    .colab-df-convert {\n",
              "      background-color: #E8F0FE;\n",
              "      border: none;\n",
              "      border-radius: 50%;\n",
              "      cursor: pointer;\n",
              "      display: none;\n",
              "      fill: #1967D2;\n",
              "      height: 32px;\n",
              "      padding: 0 0 0 0;\n",
              "      width: 32px;\n",
              "    }\n",
              "\n",
              "    .colab-df-convert:hover {\n",
              "      background-color: #E2EBFA;\n",
              "      box-shadow: 0px 1px 2px rgba(60, 64, 67, 0.3), 0px 1px 3px 1px rgba(60, 64, 67, 0.15);\n",
              "      fill: #174EA6;\n",
              "    }\n",
              "\n",
              "    .colab-df-buttons div {\n",
              "      margin-bottom: 4px;\n",
              "    }\n",
              "\n",
              "    [theme=dark] .colab-df-convert {\n",
              "      background-color: #3B4455;\n",
              "      fill: #D2E3FC;\n",
              "    }\n",
              "\n",
              "    [theme=dark] .colab-df-convert:hover {\n",
              "      background-color: #434B5C;\n",
              "      box-shadow: 0px 1px 3px 1px rgba(0, 0, 0, 0.15);\n",
              "      filter: drop-shadow(0px 1px 2px rgba(0, 0, 0, 0.3));\n",
              "      fill: #FFFFFF;\n",
              "    }\n",
              "  </style>\n",
              "\n",
              "    <script>\n",
              "      const buttonEl =\n",
              "        document.querySelector('#df-47afaf1d-c5b1-49be-b546-a8881ee480ae button.colab-df-convert');\n",
              "      buttonEl.style.display =\n",
              "        google.colab.kernel.accessAllowed ? 'block' : 'none';\n",
              "\n",
              "      async function convertToInteractive(key) {\n",
              "        const element = document.querySelector('#df-47afaf1d-c5b1-49be-b546-a8881ee480ae');\n",
              "        const dataTable =\n",
              "          await google.colab.kernel.invokeFunction('convertToInteractive',\n",
              "                                                    [key], {});\n",
              "        if (!dataTable) return;\n",
              "\n",
              "        const docLinkHtml = 'Like what you see? Visit the ' +\n",
              "          '<a target=\"_blank\" href=https://colab.research.google.com/notebooks/data_table.ipynb>data table notebook</a>'\n",
              "          + ' to learn more about interactive tables.';\n",
              "        element.innerHTML = '';\n",
              "        dataTable['output_type'] = 'display_data';\n",
              "        await google.colab.output.renderOutput(dataTable, element);\n",
              "        const docLink = document.createElement('div');\n",
              "        docLink.innerHTML = docLinkHtml;\n",
              "        element.appendChild(docLink);\n",
              "      }\n",
              "    </script>\n",
              "  </div>\n",
              "\n",
              "\n",
              "<div id=\"df-ed7916dd-ddaf-4e89-99ac-dca17225a1ea\">\n",
              "  <button class=\"colab-df-quickchart\" onclick=\"quickchart('df-ed7916dd-ddaf-4e89-99ac-dca17225a1ea')\"\n",
              "            title=\"Suggest charts\"\n",
              "            style=\"display:none;\">\n",
              "\n",
              "<svg xmlns=\"http://www.w3.org/2000/svg\" height=\"24px\"viewBox=\"0 0 24 24\"\n",
              "     width=\"24px\">\n",
              "    <g>\n",
              "        <path d=\"M19 3H5c-1.1 0-2 .9-2 2v14c0 1.1.9 2 2 2h14c1.1 0 2-.9 2-2V5c0-1.1-.9-2-2-2zM9 17H7v-7h2v7zm4 0h-2V7h2v10zm4 0h-2v-4h2v4z\"/>\n",
              "    </g>\n",
              "</svg>\n",
              "  </button>\n",
              "\n",
              "<style>\n",
              "  .colab-df-quickchart {\n",
              "      --bg-color: #E8F0FE;\n",
              "      --fill-color: #1967D2;\n",
              "      --hover-bg-color: #E2EBFA;\n",
              "      --hover-fill-color: #174EA6;\n",
              "      --disabled-fill-color: #AAA;\n",
              "      --disabled-bg-color: #DDD;\n",
              "  }\n",
              "\n",
              "  [theme=dark] .colab-df-quickchart {\n",
              "      --bg-color: #3B4455;\n",
              "      --fill-color: #D2E3FC;\n",
              "      --hover-bg-color: #434B5C;\n",
              "      --hover-fill-color: #FFFFFF;\n",
              "      --disabled-bg-color: #3B4455;\n",
              "      --disabled-fill-color: #666;\n",
              "  }\n",
              "\n",
              "  .colab-df-quickchart {\n",
              "    background-color: var(--bg-color);\n",
              "    border: none;\n",
              "    border-radius: 50%;\n",
              "    cursor: pointer;\n",
              "    display: none;\n",
              "    fill: var(--fill-color);\n",
              "    height: 32px;\n",
              "    padding: 0;\n",
              "    width: 32px;\n",
              "  }\n",
              "\n",
              "  .colab-df-quickchart:hover {\n",
              "    background-color: var(--hover-bg-color);\n",
              "    box-shadow: 0 1px 2px rgba(60, 64, 67, 0.3), 0 1px 3px 1px rgba(60, 64, 67, 0.15);\n",
              "    fill: var(--button-hover-fill-color);\n",
              "  }\n",
              "\n",
              "  .colab-df-quickchart-complete:disabled,\n",
              "  .colab-df-quickchart-complete:disabled:hover {\n",
              "    background-color: var(--disabled-bg-color);\n",
              "    fill: var(--disabled-fill-color);\n",
              "    box-shadow: none;\n",
              "  }\n",
              "\n",
              "  .colab-df-spinner {\n",
              "    border: 2px solid var(--fill-color);\n",
              "    border-color: transparent;\n",
              "    border-bottom-color: var(--fill-color);\n",
              "    animation:\n",
              "      spin 1s steps(1) infinite;\n",
              "  }\n",
              "\n",
              "  @keyframes spin {\n",
              "    0% {\n",
              "      border-color: transparent;\n",
              "      border-bottom-color: var(--fill-color);\n",
              "      border-left-color: var(--fill-color);\n",
              "    }\n",
              "    20% {\n",
              "      border-color: transparent;\n",
              "      border-left-color: var(--fill-color);\n",
              "      border-top-color: var(--fill-color);\n",
              "    }\n",
              "    30% {\n",
              "      border-color: transparent;\n",
              "      border-left-color: var(--fill-color);\n",
              "      border-top-color: var(--fill-color);\n",
              "      border-right-color: var(--fill-color);\n",
              "    }\n",
              "    40% {\n",
              "      border-color: transparent;\n",
              "      border-right-color: var(--fill-color);\n",
              "      border-top-color: var(--fill-color);\n",
              "    }\n",
              "    60% {\n",
              "      border-color: transparent;\n",
              "      border-right-color: var(--fill-color);\n",
              "    }\n",
              "    80% {\n",
              "      border-color: transparent;\n",
              "      border-right-color: var(--fill-color);\n",
              "      border-bottom-color: var(--fill-color);\n",
              "    }\n",
              "    90% {\n",
              "      border-color: transparent;\n",
              "      border-bottom-color: var(--fill-color);\n",
              "    }\n",
              "  }\n",
              "</style>\n",
              "\n",
              "  <script>\n",
              "    async function quickchart(key) {\n",
              "      const quickchartButtonEl =\n",
              "        document.querySelector('#' + key + ' button');\n",
              "      quickchartButtonEl.disabled = true;  // To prevent multiple clicks.\n",
              "      quickchartButtonEl.classList.add('colab-df-spinner');\n",
              "      try {\n",
              "        const charts = await google.colab.kernel.invokeFunction(\n",
              "            'suggestCharts', [key], {});\n",
              "      } catch (error) {\n",
              "        console.error('Error during call to suggestCharts:', error);\n",
              "      }\n",
              "      quickchartButtonEl.classList.remove('colab-df-spinner');\n",
              "      quickchartButtonEl.classList.add('colab-df-quickchart-complete');\n",
              "    }\n",
              "    (() => {\n",
              "      let quickchartButtonEl =\n",
              "        document.querySelector('#df-ed7916dd-ddaf-4e89-99ac-dca17225a1ea button');\n",
              "      quickchartButtonEl.style.display =\n",
              "        google.colab.kernel.accessAllowed ? 'block' : 'none';\n",
              "    })();\n",
              "  </script>\n",
              "</div>\n",
              "\n",
              "    </div>\n",
              "  </div>\n"
            ]
          },
          "metadata": {}
        }
      ]
    },
    {
      "cell_type": "markdown",
      "source": [
        "## 1-2. Data Wrangling"
      ],
      "metadata": {
        "id": "ls-gvAwybWGh"
      }
    },
    {
      "cell_type": "markdown",
      "source": [
        "1-2-1. 중복값 확인"
      ],
      "metadata": {
        "id": "j-5hPmlPcZfL"
      }
    },
    {
      "cell_type": "code",
      "source": [
        "# removing duplicates\n",
        "sum(train.duplicated()), sum(test.duplicated())\n"
      ],
      "metadata": {
        "id": "ENlahiq_cJ47",
        "colab": {
          "base_uri": "https://localhost:8080/"
        },
        "outputId": "53061a90-64bf-4219-9547-ae2b8135c4cf"
      },
      "execution_count": 15,
      "outputs": [
        {
          "output_type": "execute_result",
          "data": {
            "text/plain": [
              "(0, 0)"
            ]
          },
          "metadata": {},
          "execution_count": 15
        }
      ]
    },
    {
      "cell_type": "markdown",
      "source": [
        "1-2-2. Null 확인"
      ],
      "metadata": {
        "id": "7dhBkI1lceMc"
      }
    },
    {
      "cell_type": "code",
      "source": [
        "train.isnull().sum()"
      ],
      "metadata": {
        "id": "brbEKw8IJ8kF",
        "colab": {
          "base_uri": "https://localhost:8080/"
        },
        "outputId": "1676190e-4b2d-4eb6-de9e-17924230c59a"
      },
      "execution_count": 16,
      "outputs": [
        {
          "output_type": "execute_result",
          "data": {
            "text/plain": [
              "num           0\n",
              "date_time     0\n",
              "전력사용량(kWh)    0\n",
              "기온(°C)        0\n",
              "풍속(m/s)       0\n",
              "습도(%)         0\n",
              "강수량(mm)       0\n",
              "일조(hr)        0\n",
              "비전기냉방설비운영     0\n",
              "태양광보유         0\n",
              "dtype: int64"
            ]
          },
          "metadata": {},
          "execution_count": 16
        }
      ]
    },
    {
      "cell_type": "code",
      "source": [
        "test.isnull().sum()"
      ],
      "metadata": {
        "id": "buTfR9Eic2wy",
        "colab": {
          "base_uri": "https://localhost:8080/"
        },
        "outputId": "b0819b99-3c5e-44fb-e761-12e5e7ea69a7"
      },
      "execution_count": 17,
      "outputs": [
        {
          "output_type": "execute_result",
          "data": {
            "text/plain": [
              "num                0\n",
              "date_time          0\n",
              "기온(°C)          6720\n",
              "풍속(m/s)         6720\n",
              "습도(%)           6720\n",
              "강수량(mm, 6시간)    8400\n",
              "일조(hr, 3시간)     6720\n",
              "비전기냉방설비운영       7784\n",
              "태양광보유           8456\n",
              "dtype: int64"
            ]
          },
          "metadata": {},
          "execution_count": 17
        }
      ]
    },
    {
      "cell_type": "markdown",
      "source": [
        "# 2. ARIMA(p,d,q)\n",
        "\n",
        "- 자기회귀누적이동평균모형 (Autoregressive integrated moving average model)\n",
        "\n",
        "- 비정상 시계열 모형\n",
        "- AR모형 + MA 모형 합쳐 정상화할 수 있음\n",
        "\n",
        "- p: AR의 차수\n",
        "- q: MA의 차수\n",
        "- d: 차분의 정도\n",
        "  => d차 차분은 아래와 같이 연이은 관측값의 차이를 d번 한 것\n",
        "\n",
        "  예1) **d=0이면, ARMA(p,q)모형이라 부르고 이 모형은 정상성을 만족한다.**\n",
        "\n",
        "  예2) p=0이면, IMA(d,q)모형이라 부르고 d번 차분하면 MA(q)모형을 따르게 된다.\n",
        "\n",
        "  예3) q=0이면, ARI(p,d)모형이라 부르며, d번 차분한 시계열이 AR(p)모형을 따르게 된다."
      ],
      "metadata": {
        "id": "zEbWq9RLd4_M"
      }
    },
    {
      "cell_type": "markdown",
      "source": [
        "### ▪️ 자기회귀 모형(AR모형)\n",
        "- 시계열 값이 과거 p시점만큼 앞선 시점까지의 값에 의존할 때 쓰는 모형으로, 현 시점의 값을 자기 자신의 과거의 값들로 설명하는 회귀모형\n",
        "\n",
        "- 자기회귀모델의 경우, 데이터는 그 데이터 자신의 과거의 값 외에 잡음이 섞여 데이터가 결정되어 있다고 보는 것에서 시작됨\n",
        "\n",
        "  예) 충격이 없을때 손님이 30명인데, 내일 충격으로 인해 24.6명~ 33.4명의 범위가 될 것이라고 추정함.\n",
        "\n",
        "---\n",
        "\n",
        "### ▪️ 이동평균 모형(MA모형)\n",
        "-  시계열 값이 과거 q시점만큼 앞선 시점까지의 오차에 의존할 때 쓰는 모형으로, 현 시점의 값을 과거의 오차 값들로 설명하는 회귀모형\n",
        "\n",
        "- 이동평균 모형의 경우,충격에 의해 데이터가 일시적으로 정상값과 떨어저서 그것이 다시 정상값으로 향하는 움직임을 표현함.\n",
        "\n",
        "    예) 손님수가 주변에서 축제가 있으면 당일에 고객수가 늘어나는 반면, 다음날과 그 다음 날에는 반동으로 손님수가 줄어는 경우가 존재함. => 어느 날의 충격이 그 둘째 날까지 영향을 남긴다고 하는 점에서 MA(2)모델을 추정하여 손님수를 예상하면 된다.\n",
        "\n"
      ],
      "metadata": {
        "id": "p-4rJ1ETewDP"
      }
    },
    {
      "cell_type": "code",
      "source": [
        "#2d의 데이터프레임을 건물별 정보를 반영한 3d 데이터로 변환\n",
        "def df2d_to_array3d(df_2d):\n",
        "\n",
        "    # feature 사이즈 : 행 전체, 열 index2 부터 가져온 df의 shape를 구함 => (행, 열) 그중에 index1 가져옴 = 열 사이즈\n",
        "    feature_size = df_2d.iloc[:,2:].shape[1]\n",
        "    #print(feature_size)\n",
        "\n",
        "    # 타임사이즈 : 날짜의 개수를 구함\n",
        "    time_size=len(df_2d['date_time'].value_counts())\n",
        "\n",
        "    # 샘플(건물)사이즈 : num행의 개수를 구함\n",
        "    sample_size=len(df_2d.num.value_counts())\n",
        "    #print(df_2d.num.value_counts())\n",
        "\n",
        "    return df_2d.iloc[:,2:].values.reshape([sample_size, time_size, feature_size])\n",
        "    #print(df_2d.iloc[:,2:].values.shape) # Data by columns\n",
        "    print(df_2d.iloc[:,2:].values.reshape([sample_size,time_size,feature_size]).shape)\n",
        "\n",
        "train_x_array=df2d_to_array3d(train)\n",
        "test_x_array=df2d_to_array3d(test)"
      ],
      "metadata": {
        "id": "opJutquCKPJp"
      },
      "execution_count": 18,
      "outputs": []
    },
    {
      "cell_type": "code",
      "source": [
        "# 기존 : 2차 행렬 => reshape : 3차 행렬\n",
        "\n",
        "# (건물 60개, 날짜 2040개/건물, 피처 8개/건물.날짜)\n",
        "print(train_x_array.shape)\n",
        "\n",
        "# (건물 60개, 날짜 168개/건물, 피처 7개/건물.날짜)\n",
        "print(test_x_array.shape)"
      ],
      "metadata": {
        "id": "FefompJkZfXZ",
        "colab": {
          "base_uri": "https://localhost:8080/"
        },
        "outputId": "f55b7218-560f-4fd2-96de-9160b7f0426a"
      },
      "execution_count": 19,
      "outputs": [
        {
          "output_type": "stream",
          "name": "stdout",
          "text": [
            "(60, 2040, 8)\n",
            "(60, 168, 7)\n"
          ]
        }
      ]
    },
    {
      "cell_type": "code",
      "source": [
        "# df 형태: (건물 60개, 날짜 2040개/건물, 피처 8개/건물.날짜)\n",
        "idx=1\n",
        "\n",
        "# 건물 60개 중 1개의 날짜별 전력사용량\n",
        "x_series=train_x_array[idx, :, 0]\n",
        "\n",
        "# print(x_series)"
      ],
      "metadata": {
        "id": "z-Qlg5qQNHhb"
      },
      "execution_count": 73,
      "outputs": []
    },
    {
      "cell_type": "markdown",
      "source": [
        "최적 차분수 구하기"
      ],
      "metadata": {
        "id": "whvwQ-7SE1_o"
      }
    },
    {
      "cell_type": "code",
      "source": [
        "import pmdarima as pm\n",
        "\n",
        "kpss_diffs = pm.arima.ndiffs(x_series, alpha=0.05, test='kpss', max_d=5)\n",
        "adf_diffs = pm.arima.ndiffs(x_series, alpha=0.05, test='adf', max_d=5)\n",
        "n_diffs = max(kpss_diffs, adf_diffs)\n",
        "\n",
        "print(f\"Optimized 'd' = {n_diffs}\")"
      ],
      "metadata": {
        "colab": {
          "base_uri": "https://localhost:8080/"
        },
        "id": "OVMJI3i6ErQ9",
        "outputId": "69acc555-c148-4157-f752-ca5e28c0dce8"
      },
      "execution_count": 74,
      "outputs": [
        {
          "output_type": "stream",
          "name": "stdout",
          "text": [
            "Optimized 'd' = 1\n"
          ]
        }
      ]
    },
    {
      "cell_type": "code",
      "source": [
        "# 최적의 파라미터를 찾기 위해서 grid search 진행\n",
        "# ARIMA의 AR(자기회귀): p, 차분: d, MA(이동평균):q\n",
        "p = q = range(0,5)\n",
        "d = range(0,1)\n",
        "\n",
        "# grid 생성\n",
        "pdq = list(itertools.product(p,d,q))\n",
        "\n",
        "# AIC 값 담을 곳\n",
        "aic = []\n",
        "# 파라미터 담을 곳\n",
        "params = []\n",
        "\n",
        "\n",
        "with tqdm(total = len(pdq)) as pg:\n",
        "  for i in pdq:\n",
        "    pg.update(1)\n",
        "    try:\n",
        "        model = ARIMA(x_series, order=(i))\n",
        "        # 모델 학습\n",
        "        fit = model.fit()\n",
        "        aic.append(round(fit.aic,2))\n",
        "        params.append((i))\n",
        "\n",
        "    except:\n",
        "        continue"
      ],
      "metadata": {
        "id": "6YVkvh67gE8_",
        "colab": {
          "base_uri": "https://localhost:8080/"
        },
        "outputId": "2f77fff3-d62b-4d64-a971-126b7b4c991e"
      },
      "execution_count": 75,
      "outputs": [
        {
          "output_type": "stream",
          "name": "stderr",
          "text": [
            "  8%|▊         | 2/25 [00:00<00:04,  5.59it/s]/usr/local/lib/python3.10/dist-packages/statsmodels/tsa/statespace/sarimax.py:978: UserWarning: Non-invertible starting MA parameters found. Using zeros as starting parameters.\n",
            "  warn('Non-invertible starting MA parameters found.'\n",
            " 72%|███████▏  | 18/25 [00:32<00:12,  1.79s/it]/usr/local/lib/python3.10/dist-packages/statsmodels/tsa/statespace/sarimax.py:966: UserWarning: Non-stationary starting autoregressive parameters found. Using zeros as starting parameters.\n",
            "  warn('Non-stationary starting autoregressive parameters'\n",
            " 92%|█████████▏| 23/25 [00:50<00:06,  3.16s/it]/usr/local/lib/python3.10/dist-packages/statsmodels/base/model.py:607: ConvergenceWarning: Maximum Likelihood optimization failed to converge. Check mle_retvals\n",
            "  warnings.warn(\"Maximum Likelihood optimization failed to \"\n",
            "100%|██████████| 25/25 [01:01<00:00,  4.53s/it]/usr/local/lib/python3.10/dist-packages/statsmodels/base/model.py:607: ConvergenceWarning: Maximum Likelihood optimization failed to converge. Check mle_retvals\n",
            "  warnings.warn(\"Maximum Likelihood optimization failed to \"\n",
            "100%|██████████| 25/25 [01:07<00:00,  2.71s/it]\n"
          ]
        }
      ]
    },
    {
      "cell_type": "code",
      "source": [
        "# 탐색된 파라미터들 중 aic가 가장 낮은 모델을 최적의 모델로 선정\n",
        "optimal = [(params[i],j) for i,j in enumerate(aic) if j == min(aic)]\n",
        "\n",
        "optimal"
      ],
      "metadata": {
        "id": "_BsCwPbn67cd",
        "colab": {
          "base_uri": "https://localhost:8080/"
        },
        "outputId": "4443517b-7d6b-4644-f513-2dfb44670c44"
      },
      "execution_count": 83,
      "outputs": [
        {
          "output_type": "execute_result",
          "data": {
            "text/plain": [
              "[((2, 0, 4), 22992.15)]"
            ]
          },
          "metadata": {},
          "execution_count": 83
        }
      ]
    },
    {
      "cell_type": "code",
      "source": [
        "model_opt = ARIMA(x_series, order = optimal[0][0])\n",
        "model_opt_fit = model_opt.fit()\n",
        "model_opt_fit.summary()"
      ],
      "metadata": {
        "id": "zY3PxrlR3hp2",
        "colab": {
          "base_uri": "https://localhost:8080/",
          "height": 537
        },
        "outputId": "e1002f60-9517-4557-ac42-ac2ec0170bb9"
      },
      "execution_count": 79,
      "outputs": [
        {
          "output_type": "execute_result",
          "data": {
            "text/plain": [
              "<class 'statsmodels.iolib.summary.Summary'>\n",
              "\"\"\"\n",
              "                               SARIMAX Results                                \n",
              "==============================================================================\n",
              "Dep. Variable:                      y   No. Observations:                 2040\n",
              "Model:                 ARIMA(2, 0, 4)   Log Likelihood              -11488.077\n",
              "Date:                Tue, 30 Jan 2024   AIC                          22992.154\n",
              "Time:                        11:51:35   BIC                          23037.119\n",
              "Sample:                             0   HQIC                         23008.648\n",
              "                               - 2040                                         \n",
              "Covariance Type:                  opg                                         \n",
              "==============================================================================\n",
              "                 coef    std err          z      P>|z|      [0.025      0.975]\n",
              "------------------------------------------------------------------------------\n",
              "const       1299.9142     15.862     81.954      0.000    1268.826    1331.002\n",
              "ar.L1          1.8515      0.023     81.808      0.000       1.807       1.896\n",
              "ar.L2         -0.9073      0.019    -46.660      0.000      -0.945      -0.869\n",
              "ma.L1         -0.2283      0.031     -7.279      0.000      -0.290      -0.167\n",
              "ma.L2         -0.3193      0.029    -11.036      0.000      -0.376      -0.263\n",
              "ma.L3         -0.1697      0.029     -5.926      0.000      -0.226      -0.114\n",
              "ma.L4          0.1719      0.030      5.756      0.000       0.113       0.230\n",
              "sigma2      4530.2915    111.300     40.703      0.000    4312.147    4748.436\n",
              "===================================================================================\n",
              "Ljung-Box (L1) (Q):                   1.33   Jarque-Bera (JB):              2346.98\n",
              "Prob(Q):                              0.25   Prob(JB):                         0.00\n",
              "Heteroskedasticity (H):               1.45   Skew:                             1.03\n",
              "Prob(H) (two-sided):                  0.00   Kurtosis:                         7.83\n",
              "===================================================================================\n",
              "\n",
              "Warnings:\n",
              "[1] Covariance matrix calculated using the outer product of gradients (complex-step).\n",
              "\"\"\""
            ],
            "text/html": [
              "<table class=\"simpletable\">\n",
              "<caption>SARIMAX Results</caption>\n",
              "<tr>\n",
              "  <th>Dep. Variable:</th>           <td>y</td>        <th>  No. Observations:  </th>    <td>2040</td>   \n",
              "</tr>\n",
              "<tr>\n",
              "  <th>Model:</th>            <td>ARIMA(2, 0, 4)</td>  <th>  Log Likelihood     </th> <td>-11488.077</td>\n",
              "</tr>\n",
              "<tr>\n",
              "  <th>Date:</th>            <td>Tue, 30 Jan 2024</td> <th>  AIC                </th>  <td>22992.154</td>\n",
              "</tr>\n",
              "<tr>\n",
              "  <th>Time:</th>                <td>11:51:35</td>     <th>  BIC                </th>  <td>23037.119</td>\n",
              "</tr>\n",
              "<tr>\n",
              "  <th>Sample:</th>                  <td>0</td>        <th>  HQIC               </th>  <td>23008.648</td>\n",
              "</tr>\n",
              "<tr>\n",
              "  <th></th>                      <td> - 2040</td>     <th>                     </th>      <td> </td>    \n",
              "</tr>\n",
              "<tr>\n",
              "  <th>Covariance Type:</th>        <td>opg</td>       <th>                     </th>      <td> </td>    \n",
              "</tr>\n",
              "</table>\n",
              "<table class=\"simpletable\">\n",
              "<tr>\n",
              "     <td></td>       <th>coef</th>     <th>std err</th>      <th>z</th>      <th>P>|z|</th>  <th>[0.025</th>    <th>0.975]</th>  \n",
              "</tr>\n",
              "<tr>\n",
              "  <th>const</th>  <td> 1299.9142</td> <td>   15.862</td> <td>   81.954</td> <td> 0.000</td> <td> 1268.826</td> <td> 1331.002</td>\n",
              "</tr>\n",
              "<tr>\n",
              "  <th>ar.L1</th>  <td>    1.8515</td> <td>    0.023</td> <td>   81.808</td> <td> 0.000</td> <td>    1.807</td> <td>    1.896</td>\n",
              "</tr>\n",
              "<tr>\n",
              "  <th>ar.L2</th>  <td>   -0.9073</td> <td>    0.019</td> <td>  -46.660</td> <td> 0.000</td> <td>   -0.945</td> <td>   -0.869</td>\n",
              "</tr>\n",
              "<tr>\n",
              "  <th>ma.L1</th>  <td>   -0.2283</td> <td>    0.031</td> <td>   -7.279</td> <td> 0.000</td> <td>   -0.290</td> <td>   -0.167</td>\n",
              "</tr>\n",
              "<tr>\n",
              "  <th>ma.L2</th>  <td>   -0.3193</td> <td>    0.029</td> <td>  -11.036</td> <td> 0.000</td> <td>   -0.376</td> <td>   -0.263</td>\n",
              "</tr>\n",
              "<tr>\n",
              "  <th>ma.L3</th>  <td>   -0.1697</td> <td>    0.029</td> <td>   -5.926</td> <td> 0.000</td> <td>   -0.226</td> <td>   -0.114</td>\n",
              "</tr>\n",
              "<tr>\n",
              "  <th>ma.L4</th>  <td>    0.1719</td> <td>    0.030</td> <td>    5.756</td> <td> 0.000</td> <td>    0.113</td> <td>    0.230</td>\n",
              "</tr>\n",
              "<tr>\n",
              "  <th>sigma2</th> <td> 4530.2915</td> <td>  111.300</td> <td>   40.703</td> <td> 0.000</td> <td> 4312.147</td> <td> 4748.436</td>\n",
              "</tr>\n",
              "</table>\n",
              "<table class=\"simpletable\">\n",
              "<tr>\n",
              "  <th>Ljung-Box (L1) (Q):</th>     <td>1.33</td> <th>  Jarque-Bera (JB):  </th> <td>2346.98</td>\n",
              "</tr>\n",
              "<tr>\n",
              "  <th>Prob(Q):</th>                <td>0.25</td> <th>  Prob(JB):          </th>  <td>0.00</td>  \n",
              "</tr>\n",
              "<tr>\n",
              "  <th>Heteroskedasticity (H):</th> <td>1.45</td> <th>  Skew:              </th>  <td>1.03</td>  \n",
              "</tr>\n",
              "<tr>\n",
              "  <th>Prob(H) (two-sided):</th>    <td>0.00</td> <th>  Kurtosis:          </th>  <td>7.83</td>  \n",
              "</tr>\n",
              "</table><br/><br/>Warnings:<br/>[1] Covariance matrix calculated using the outer product of gradients (complex-step)."
            ],
            "text/latex": "\\begin{center}\n\\begin{tabular}{lclc}\n\\toprule\n\\textbf{Dep. Variable:}          &        y         & \\textbf{  No. Observations:  } &    2040     \\\\\n\\textbf{Model:}                  &  ARIMA(2, 0, 4)  & \\textbf{  Log Likelihood     } & -11488.077  \\\\\n\\textbf{Date:}                   & Tue, 30 Jan 2024 & \\textbf{  AIC                } & 22992.154   \\\\\n\\textbf{Time:}                   &     11:51:35     & \\textbf{  BIC                } & 23037.119   \\\\\n\\textbf{Sample:}                 &        0         & \\textbf{  HQIC               } & 23008.648   \\\\\n\\textbf{}                        &      - 2040      & \\textbf{                     } &             \\\\\n\\textbf{Covariance Type:}        &       opg        & \\textbf{                     } &             \\\\\n\\bottomrule\n\\end{tabular}\n\\begin{tabular}{lcccccc}\n                & \\textbf{coef} & \\textbf{std err} & \\textbf{z} & \\textbf{P$> |$z$|$} & \\textbf{[0.025} & \\textbf{0.975]}  \\\\\n\\midrule\n\\textbf{const}  &    1299.9142  &       15.862     &    81.954  &         0.000        &     1268.826    &     1331.002     \\\\\n\\textbf{ar.L1}  &       1.8515  &        0.023     &    81.808  &         0.000        &        1.807    &        1.896     \\\\\n\\textbf{ar.L2}  &      -0.9073  &        0.019     &   -46.660  &         0.000        &       -0.945    &       -0.869     \\\\\n\\textbf{ma.L1}  &      -0.2283  &        0.031     &    -7.279  &         0.000        &       -0.290    &       -0.167     \\\\\n\\textbf{ma.L2}  &      -0.3193  &        0.029     &   -11.036  &         0.000        &       -0.376    &       -0.263     \\\\\n\\textbf{ma.L3}  &      -0.1697  &        0.029     &    -5.926  &         0.000        &       -0.226    &       -0.114     \\\\\n\\textbf{ma.L4}  &       0.1719  &        0.030     &     5.756  &         0.000        &        0.113    &        0.230     \\\\\n\\textbf{sigma2} &    4530.2915  &      111.300     &    40.703  &         0.000        &     4312.147    &     4748.436     \\\\\n\\bottomrule\n\\end{tabular}\n\\begin{tabular}{lclc}\n\\textbf{Ljung-Box (L1) (Q):}     & 1.33 & \\textbf{  Jarque-Bera (JB):  } & 2346.98  \\\\\n\\textbf{Prob(Q):}                & 0.25 & \\textbf{  Prob(JB):          } &   0.00   \\\\\n\\textbf{Heteroskedasticity (H):} & 1.45 & \\textbf{  Skew:              } &   1.03   \\\\\n\\textbf{Prob(H) (two-sided):}    & 0.00 & \\textbf{  Kurtosis:          } &   7.83   \\\\\n\\bottomrule\n\\end{tabular}\n%\\caption{SARIMAX Results}\n\\end{center}\n\nWarnings: \\newline\n [1] Covariance matrix calculated using the outer product of gradients (complex-step)."
          },
          "metadata": {},
          "execution_count": 79
        }
      ]
    },
    {
      "cell_type": "code",
      "source": [
        "# 모델 예측\n",
        "# 1부터 168까지 총 168개 값(start, end)\n",
        "# typ='levels' : 학습에 input된 값과 동일한 값을 예측\n",
        "# predict(start=None, end=None, typ= ['linear','levels'] )\n",
        "\n",
        "pred = fit.predict(0, 167, typ='levels')"
      ],
      "metadata": {
        "id": "3L9out193bmV"
      },
      "execution_count": 80,
      "outputs": []
    },
    {
      "cell_type": "code",
      "source": [
        "# 그래프 그리기\n",
        "plt.plot(x_series, label = 'input_series')\n",
        "\n",
        "plt.plot(np.arange(2040, 2040+168), test_x_array[idx, :, 0], label='y')\n",
        "\n",
        "plt.plot(np.arange(2040, 2040+168), pred, label='prediction')\n",
        "\n",
        "plt.legend()"
      ],
      "metadata": {
        "id": "3TtPAcguweKL",
        "colab": {
          "base_uri": "https://localhost:8080/",
          "height": 448
        },
        "outputId": "d99976b5-09c3-4515-e2ac-02dbecc2606f"
      },
      "execution_count": 41,
      "outputs": [
        {
          "output_type": "execute_result",
          "data": {
            "text/plain": [
              "<matplotlib.legend.Legend at 0x79d8b3467c40>"
            ]
          },
          "metadata": {},
          "execution_count": 41
        },
        {
          "output_type": "display_data",
          "data": {
            "text/plain": [
              "<Figure size 640x480 with 1 Axes>"
            ],
            "image/png": "[encoded data removed]"
          },
          "metadata": {}
        }
      ]
    },
    {
      "cell_type": "markdown",
      "source": [
        "## 3. SARIMA\n",
        "- ARIMA에서 데이터의 주기성을 추가로 고려해주는 모델\n",
        "- 데이터가 1시간의 간격으로 존재하기 때문에 24로 설정"
      ],
      "metadata": {
        "id": "ZXd09MgO9Uei"
      }
    },
    {
      "cell_type": "code",
      "source": [
        "# 최적의 파라미터를 찾기 위해서 grid search 진행\n",
        "# ARIMA의 AR(자기회귀): p, 차분: d, MA(이동평균):q\n",
        "p = range(0,5)\n",
        "d = range(1)\n",
        "q = range(0,5)\n",
        "m = 24\n",
        "\n",
        "# grid 생성\n",
        "pdq = list(itertools.product(p,d,q))\n",
        "seasonal_pdq = [(x[0], x[1], x[2], m) for x in list(itertools.product(p,d,q))]\n",
        "\n",
        "# AIC 값 담을 곳\n",
        "aic = []\n",
        "# 파라미터 담을 곳\n",
        "params = []\n",
        "\n",
        "\n",
        "with tqdm(total = len(pdq)) as pg:\n",
        "  for i in pdq:\n",
        "    for j in seasonal_pdq:\n",
        "      pg.update(1)\n",
        "      try:\n",
        "          model = SARIMAX(x_series, order=(i), season_order = (j))\n",
        "          # 모델 학습\n",
        "          fit = model.fit()\n",
        "          aic.append(round(fit.aic,2))\n",
        "          params.append((i))\n",
        "\n",
        "      except:\n",
        "          continue"
      ],
      "metadata": {
        "id": "Dljyg0Cq9Mn7",
        "colab": {
          "base_uri": "https://localhost:8080/"
        },
        "outputId": "374593bd-f164-4150-b2fd-6aa2f6178129"
      },
      "execution_count": null,
      "outputs": [
        {
          "output_type": "stream",
          "name": "stderr",
          "text": [
            "\r  0%|          | 0/64 [00:00<?, ?it/s]/usr/local/lib/python3.10/dist-packages/statsmodels/tsa/statespace/representation.py:374: FutureWarning: Unknown keyword arguments: dict_keys(['season_order']).Passing unknown keyword arguments will raise a TypeError beginning in version 0.15.\n",
            "  warnings.warn(msg, FutureWarning)\n",
            "193it [01:21,  1.21it/s]/usr/local/lib/python3.10/dist-packages/statsmodels/tsa/statespace/sarimax.py:966: UserWarning: Non-stationary starting autoregressive parameters found. Using zeros as starting parameters.\n",
            "  warn('Non-stationary starting autoregressive parameters'\n",
            "/usr/local/lib/python3.10/dist-packages/statsmodels/tsa/statespace/sarimax.py:978: UserWarning: Non-invertible starting MA parameters found. Using zeros as starting parameters.\n",
            "  warn('Non-invertible starting MA parameters found.'\n",
            "449it [07:59,  2.04s/it]"
          ]
        }
      ]
    },
    {
      "cell_type": "markdown",
      "source": [
        "Auro ARIMA를 통한 모델링"
      ],
      "metadata": {
        "id": "xCnKgGrIFsne"
      }
    },
    {
      "cell_type": "code",
      "source": [
        "# 예시\n",
        "example_model = pm.auto_arima(y = x_series,\t\t# 데이터\n",
        "                      d = 1,\t# 차분 (d), 기본값 = None\n",
        "                      start_p = 0,\t# 시작 p값, 기본값 = 2\n",
        "                      max_p = 5,\t# p 최대값, 기본값 = 5\n",
        "                      start_q = 0,\t# 시작 q값, 기본값 = 2\n",
        "                      max_q = 5,\t# q 최대값, 기본값 = 5\n",
        "                      m = 24,\t\t\t# season의 주기, 기본값 = 1\n",
        "                      seasonal = False,\t# sARIMA를 실시, 기본값 = True\n",
        "                      stepwise = True,\t# stepwise algorithm, 기본값 = True\n",
        "                      trace = True)\t\t# 각 step을 출력할지, 기본값 = False"
      ],
      "metadata": {
        "colab": {
          "base_uri": "https://localhost:8080/"
        },
        "id": "hz_40UkNFrwB",
        "outputId": "8ca4b92a-a9f2-42ed-a8f0-8260f74497e8"
      },
      "execution_count": 42,
      "outputs": [
        {
          "output_type": "stream",
          "name": "stderr",
          "text": [
            "/usr/local/lib/python3.10/dist-packages/pmdarima/arima/_validation.py:62: UserWarning: m (24) set for non-seasonal fit. Setting to 0\n",
            "  warnings.warn(\"m (%i) set for non-seasonal fit. Setting to 0\" % m)\n"
          ]
        },
        {
          "output_type": "stream",
          "name": "stdout",
          "text": [
            "Performing stepwise search to minimize aic\n",
            " ARIMA(0,1,0)(0,0,0)[0] intercept   : AIC=24650.745, Time=0.07 sec\n",
            " ARIMA(1,1,0)(0,0,0)[0] intercept   : AIC=23392.195, Time=0.11 sec\n",
            " ARIMA(0,1,1)(0,0,0)[0] intercept   : AIC=23647.505, Time=1.24 sec\n",
            " ARIMA(0,1,0)(0,0,0)[0]             : AIC=24648.746, Time=0.10 sec\n",
            " ARIMA(2,1,0)(0,0,0)[0] intercept   : AIC=23318.558, Time=0.46 sec\n",
            " ARIMA(3,1,0)(0,0,0)[0] intercept   : AIC=23319.499, Time=0.68 sec\n",
            " ARIMA(2,1,1)(0,0,0)[0] intercept   : AIC=23319.959, Time=1.37 sec\n",
            " ARIMA(1,1,1)(0,0,0)[0] intercept   : AIC=23323.505, Time=0.59 sec\n",
            " ARIMA(3,1,1)(0,0,0)[0] intercept   : AIC=23320.251, Time=2.78 sec\n",
            " ARIMA(2,1,0)(0,0,0)[0]             : AIC=23316.559, Time=0.29 sec\n",
            " ARIMA(1,1,0)(0,0,0)[0]             : AIC=23390.195, Time=0.14 sec\n",
            " ARIMA(3,1,0)(0,0,0)[0]             : AIC=23317.499, Time=0.37 sec\n",
            " ARIMA(2,1,1)(0,0,0)[0]             : AIC=23317.959, Time=0.38 sec\n",
            " ARIMA(1,1,1)(0,0,0)[0]             : AIC=23321.505, Time=0.17 sec\n",
            " ARIMA(3,1,1)(0,0,0)[0]             : AIC=23318.251, Time=0.95 sec\n",
            "\n",
            "Best model:  ARIMA(2,1,0)(0,0,0)[0]          \n",
            "Total fit time: 9.753 seconds\n"
          ]
        }
      ]
    },
    {
      "cell_type": "code",
      "source": [
        "model = ARIMA(x_series, order=(2,1,0))\n",
        "# 모델 학습\n",
        "fit2 = model.fit()\n",
        "\n",
        "pred_model=fit2.predict(1, 168, typ='levels')"
      ],
      "metadata": {
        "id": "jXeblFHpH5MG"
      },
      "execution_count": 81,
      "outputs": []
    },
    {
      "cell_type": "code",
      "source": [
        "# 그래프 그리기\n",
        "plt.plot(x_series, label = 'input_series')\n",
        "\n",
        "plt.plot(np.arange(2040, 2040+168), test_x_array[idx, :, 0], label='y')\n",
        "\n",
        "plt.plot(np.arange(2040, 2040+168), pred_model, label='prediction')\n",
        "\n",
        "plt.legend()"
      ],
      "metadata": {
        "colab": {
          "base_uri": "https://localhost:8080/",
          "height": 448
        },
        "id": "oq8H2d8dJMLB",
        "outputId": "13d7e6a5-c2c9-42a2-da88-0661d1c43c3d"
      },
      "execution_count": 82,
      "outputs": [
        {
          "output_type": "execute_result",
          "data": {
            "text/plain": [
              "<matplotlib.legend.Legend at 0x79d8b18b6980>"
            ]
          },
          "metadata": {},
          "execution_count": 82
        },
        {
          "output_type": "display_data",
          "data": {
            "text/plain": [
              "<Figure size 640x480 with 1 Axes>"
            ],
            "image/png": "[encoded data removed]"
          },
          "metadata": {}
        }
      ]
    },
    {
      "cell_type": "code",
      "source": [
        "model_opt2 = ARIMA(x_series, order = (2,1,0))\n",
        "model_opt_fit2 = model_opt2.fit()\n",
        "model_opt_fit2.summary()"
      ],
      "metadata": {
        "colab": {
          "base_uri": "https://localhost:8080/",
          "height": 430
        },
        "id": "m3M40stLNx2E",
        "outputId": "fb7bc565-d10a-4937-c8db-396ed5e42806"
      },
      "execution_count": 86,
      "outputs": [
        {
          "output_type": "execute_result",
          "data": {
            "text/plain": [
              "<class 'statsmodels.iolib.summary.Summary'>\n",
              "\"\"\"\n",
              "                               SARIMAX Results                                \n",
              "==============================================================================\n",
              "Dep. Variable:                      y   No. Observations:                 2040\n",
              "Model:                 ARIMA(2, 1, 0)   Log Likelihood              -11655.279\n",
              "Date:                Tue, 30 Jan 2024   AIC                          23316.559\n",
              "Time:                        11:53:50   BIC                          23333.419\n",
              "Sample:                             0   HQIC                         23322.743\n",
              "                               - 2040                                         \n",
              "Covariance Type:                  opg                                         \n",
              "==============================================================================\n",
              "                 coef    std err          z      P>|z|      [0.025      0.975]\n",
              "------------------------------------------------------------------------------\n",
              "ar.L1          0.8085      0.017     47.669      0.000       0.775       0.842\n",
              "ar.L2         -0.1908      0.022     -8.695      0.000      -0.234      -0.148\n",
              "sigma2      5404.9878     94.753     57.043      0.000    5219.275    5590.701\n",
              "===================================================================================\n",
              "Ljung-Box (L1) (Q):                   0.05   Jarque-Bera (JB):              2171.50\n",
              "Prob(Q):                              0.83   Prob(JB):                         0.00\n",
              "Heteroskedasticity (H):               1.38   Skew:                             0.35\n",
              "Prob(H) (two-sided):                  0.00   Kurtosis:                         8.01\n",
              "===================================================================================\n",
              "\n",
              "Warnings:\n",
              "[1] Covariance matrix calculated using the outer product of gradients (complex-step).\n",
              "\"\"\""
            ],
            "text/html": [
              "<table class=\"simpletable\">\n",
              "<caption>SARIMAX Results</caption>\n",
              "<tr>\n",
              "  <th>Dep. Variable:</th>           <td>y</td>        <th>  No. Observations:  </th>    <td>2040</td>   \n",
              "</tr>\n",
              "<tr>\n",
              "  <th>Model:</th>            <td>ARIMA(2, 1, 0)</td>  <th>  Log Likelihood     </th> <td>-11655.279</td>\n",
              "</tr>\n",
              "<tr>\n",
              "  <th>Date:</th>            <td>Tue, 30 Jan 2024</td> <th>  AIC                </th>  <td>23316.559</td>\n",
              "</tr>\n",
              "<tr>\n",
              "  <th>Time:</th>                <td>11:53:50</td>     <th>  BIC                </th>  <td>23333.419</td>\n",
              "</tr>\n",
              "<tr>\n",
              "  <th>Sample:</th>                  <td>0</td>        <th>  HQIC               </th>  <td>23322.743</td>\n",
              "</tr>\n",
              "<tr>\n",
              "  <th></th>                      <td> - 2040</td>     <th>                     </th>      <td> </td>    \n",
              "</tr>\n",
              "<tr>\n",
              "  <th>Covariance Type:</th>        <td>opg</td>       <th>                     </th>      <td> </td>    \n",
              "</tr>\n",
              "</table>\n",
              "<table class=\"simpletable\">\n",
              "<tr>\n",
              "     <td></td>       <th>coef</th>     <th>std err</th>      <th>z</th>      <th>P>|z|</th>  <th>[0.025</th>    <th>0.975]</th>  \n",
              "</tr>\n",
              "<tr>\n",
              "  <th>ar.L1</th>  <td>    0.8085</td> <td>    0.017</td> <td>   47.669</td> <td> 0.000</td> <td>    0.775</td> <td>    0.842</td>\n",
              "</tr>\n",
              "<tr>\n",
              "  <th>ar.L2</th>  <td>   -0.1908</td> <td>    0.022</td> <td>   -8.695</td> <td> 0.000</td> <td>   -0.234</td> <td>   -0.148</td>\n",
              "</tr>\n",
              "<tr>\n",
              "  <th>sigma2</th> <td> 5404.9878</td> <td>   94.753</td> <td>   57.043</td> <td> 0.000</td> <td> 5219.275</td> <td> 5590.701</td>\n",
              "</tr>\n",
              "</table>\n",
              "<table class=\"simpletable\">\n",
              "<tr>\n",
              "  <th>Ljung-Box (L1) (Q):</th>     <td>0.05</td> <th>  Jarque-Bera (JB):  </th> <td>2171.50</td>\n",
              "</tr>\n",
              "<tr>\n",
              "  <th>Prob(Q):</th>                <td>0.83</td> <th>  Prob(JB):          </th>  <td>0.00</td>  \n",
              "</tr>\n",
              "<tr>\n",
              "  <th>Heteroskedasticity (H):</th> <td>1.38</td> <th>  Skew:              </th>  <td>0.35</td>  \n",
              "</tr>\n",
              "<tr>\n",
              "  <th>Prob(H) (two-sided):</th>    <td>0.00</td> <th>  Kurtosis:          </th>  <td>8.01</td>  \n",
              "</tr>\n",
              "</table><br/><br/>Warnings:<br/>[1] Covariance matrix calculated using the outer product of gradients (complex-step)."
            ],
            "text/latex": "\\begin{center}\n\\begin{tabular}{lclc}\n\\toprule\n\\textbf{Dep. Variable:}          &        y         & \\textbf{  No. Observations:  } &    2040     \\\\\n\\textbf{Model:}                  &  ARIMA(2, 1, 0)  & \\textbf{  Log Likelihood     } & -11655.279  \\\\\n\\textbf{Date:}                   & Tue, 30 Jan 2024 & \\textbf{  AIC                } & 23316.559   \\\\\n\\textbf{Time:}                   &     11:53:50     & \\textbf{  BIC                } & 23333.419   \\\\\n\\textbf{Sample:}                 &        0         & \\textbf{  HQIC               } & 23322.743   \\\\\n\\textbf{}                        &      - 2040      & \\textbf{                     } &             \\\\\n\\textbf{Covariance Type:}        &       opg        & \\textbf{                     } &             \\\\\n\\bottomrule\n\\end{tabular}\n\\begin{tabular}{lcccccc}\n                & \\textbf{coef} & \\textbf{std err} & \\textbf{z} & \\textbf{P$> |$z$|$} & \\textbf{[0.025} & \\textbf{0.975]}  \\\\\n\\midrule\n\\textbf{ar.L1}  &       0.8085  &        0.017     &    47.669  &         0.000        &        0.775    &        0.842     \\\\\n\\textbf{ar.L2}  &      -0.1908  &        0.022     &    -8.695  &         0.000        &       -0.234    &       -0.148     \\\\\n\\textbf{sigma2} &    5404.9878  &       94.753     &    57.043  &         0.000        &     5219.275    &     5590.701     \\\\\n\\bottomrule\n\\end{tabular}\n\\begin{tabular}{lclc}\n\\textbf{Ljung-Box (L1) (Q):}     & 0.05 & \\textbf{  Jarque-Bera (JB):  } & 2171.50  \\\\\n\\textbf{Prob(Q):}                & 0.83 & \\textbf{  Prob(JB):          } &   0.00   \\\\\n\\textbf{Heteroskedasticity (H):} & 1.38 & \\textbf{  Skew:              } &   0.35   \\\\\n\\textbf{Prob(H) (two-sided):}    & 0.00 & \\textbf{  Kurtosis:          } &   8.01   \\\\\n\\bottomrule\n\\end{tabular}\n%\\caption{SARIMAX Results}\n\\end{center}\n\nWarnings: \\newline\n [1] Covariance matrix calculated using the outer product of gradients (complex-step)."
          },
          "metadata": {},
          "execution_count": 86
        }
      ]
    },
    {
      "cell_type": "markdown",
      "source": [
        "## 3. Auto ARIMA"
      ],
      "metadata": {
        "id": "xg3RIdIXL5jY"
      }
    },
    {
      "cell_type": "code",
      "source": [
        "cal_model2 = pm.auto_arima(x_series, d=1, seasonal=False, trace=True)"
      ],
      "metadata": {
        "colab": {
          "base_uri": "https://localhost:8080/"
        },
        "id": "RM8dJWTYGy_p",
        "outputId": "f2fac1a2-2478-4283-a698-460910807878"
      },
      "execution_count": 87,
      "outputs": [
        {
          "output_type": "stream",
          "name": "stdout",
          "text": [
            "Performing stepwise search to minimize aic\n",
            " ARIMA(2,1,2)(0,0,0)[0] intercept   : AIC=23305.081, Time=1.42 sec\n",
            " ARIMA(0,1,0)(0,0,0)[0] intercept   : AIC=24650.745, Time=0.08 sec\n",
            " ARIMA(1,1,0)(0,0,0)[0] intercept   : AIC=23392.195, Time=0.14 sec\n",
            " ARIMA(0,1,1)(0,0,0)[0] intercept   : AIC=23647.505, Time=0.75 sec\n",
            " ARIMA(0,1,0)(0,0,0)[0]             : AIC=24648.746, Time=0.04 sec\n",
            " ARIMA(1,1,2)(0,0,0)[0] intercept   : AIC=23309.809, Time=0.62 sec\n",
            " ARIMA(2,1,1)(0,0,0)[0] intercept   : AIC=23319.959, Time=0.72 sec\n",
            " ARIMA(3,1,2)(0,0,0)[0] intercept   : AIC=23303.773, Time=3.01 sec\n",
            " ARIMA(3,1,1)(0,0,0)[0] intercept   : AIC=23320.251, Time=1.78 sec\n",
            " ARIMA(4,1,2)(0,0,0)[0] intercept   : AIC=23304.820, Time=6.66 sec\n",
            " ARIMA(3,1,3)(0,0,0)[0] intercept   : AIC=23305.386, Time=3.71 sec\n",
            " ARIMA(2,1,3)(0,0,0)[0] intercept   : AIC=inf, Time=4.80 sec\n",
            " ARIMA(4,1,1)(0,0,0)[0] intercept   : AIC=23307.265, Time=1.44 sec\n",
            " ARIMA(4,1,3)(0,0,0)[0] intercept   : AIC=inf, Time=8.69 sec\n",
            " ARIMA(3,1,2)(0,0,0)[0]             : AIC=23301.773, Time=0.85 sec\n",
            " ARIMA(2,1,2)(0,0,0)[0]             : AIC=23303.081, Time=0.65 sec\n",
            " ARIMA(3,1,1)(0,0,0)[0]             : AIC=23318.251, Time=0.76 sec\n",
            " ARIMA(4,1,2)(0,0,0)[0]             : AIC=23302.820, Time=1.84 sec\n",
            " ARIMA(3,1,3)(0,0,0)[0]             : AIC=23303.384, Time=1.24 sec\n",
            " ARIMA(2,1,1)(0,0,0)[0]             : AIC=23317.959, Time=0.30 sec\n",
            " ARIMA(2,1,3)(0,0,0)[0]             : AIC=inf, Time=3.58 sec\n",
            " ARIMA(4,1,1)(0,0,0)[0]             : AIC=23305.265, Time=1.26 sec\n",
            " ARIMA(4,1,3)(0,0,0)[0]             : AIC=inf, Time=5.21 sec\n",
            "\n",
            "Best model:  ARIMA(3,1,2)(0,0,0)[0]          \n",
            "Total fit time: 49.587 seconds\n"
          ]
        }
      ]
    },
    {
      "cell_type": "code",
      "source": [
        "model = ARIMA(x_series, order=(3,1,2))\n",
        "# 모델 학습\n",
        "fit3 = model.fit()\n",
        "\n",
        "pred_model2=fit3.predict(1, 168, typ='levels')\n",
        "\n",
        "# 그래프 그리기\n",
        "plt.plot(x_series, label = 'input_series')\n",
        "\n",
        "plt.plot(np.arange(2040, 2040+168), test_x_array[idx, :, 0], label='y')\n",
        "\n",
        "plt.plot(np.arange(2040, 2040+168), pred_model2, label='prediction')\n",
        "\n",
        "plt.legend()"
      ],
      "metadata": {
        "colab": {
          "base_uri": "https://localhost:8080/",
          "height": 448
        },
        "id": "qiAZfG3EJUqO",
        "outputId": "58d9c854-a9da-47df-e60e-1620a7b90b00"
      },
      "execution_count": 89,
      "outputs": [
        {
          "output_type": "execute_result",
          "data": {
            "text/plain": [
              "<matplotlib.legend.Legend at 0x79d8a9dc1b70>"
            ]
          },
          "metadata": {},
          "execution_count": 89
        },
        {
          "output_type": "display_data",
          "data": {
            "text/plain": [
              "<Figure size 640x480 with 1 Axes>"
            ],
            "image/png": "[encoded data removed]"
          },
          "metadata": {}
        }
      ]
    },
    {
      "cell_type": "code",
      "source": [
        "model_opt2 = ARIMA(x_series, order = (2,1,0))\n",
        "model_opt_fit2 = model_opt2.fit()\n",
        "model_opt_fit2.summary()"
      ],
      "metadata": {
        "colab": {
          "base_uri": "https://localhost:8080/",
          "height": 430
        },
        "id": "w3bEP4nWOFDw",
        "outputId": "c5e93895-4cad-419c-abf7-861f480cc195"
      },
      "execution_count": 90,
      "outputs": [
        {
          "output_type": "execute_result",
          "data": {
            "text/plain": [
              "<class 'statsmodels.iolib.summary.Summary'>\n",
              "\"\"\"\n",
              "                               SARIMAX Results                                \n",
              "==============================================================================\n",
              "Dep. Variable:                      y   No. Observations:                 2040\n",
              "Model:                 ARIMA(2, 1, 0)   Log Likelihood              -11655.279\n",
              "Date:                Tue, 30 Jan 2024   AIC                          23316.559\n",
              "Time:                        11:55:15   BIC                          23333.419\n",
              "Sample:                             0   HQIC                         23322.743\n",
              "                               - 2040                                         \n",
              "Covariance Type:                  opg                                         \n",
              "==============================================================================\n",
              "                 coef    std err          z      P>|z|      [0.025      0.975]\n",
              "------------------------------------------------------------------------------\n",
              "ar.L1          0.8085      0.017     47.669      0.000       0.775       0.842\n",
              "ar.L2         -0.1908      0.022     -8.695      0.000      -0.234      -0.148\n",
              "sigma2      5404.9878     94.753     57.043      0.000    5219.275    5590.701\n",
              "===================================================================================\n",
              "Ljung-Box (L1) (Q):                   0.05   Jarque-Bera (JB):              2171.50\n",
              "Prob(Q):                              0.83   Prob(JB):                         0.00\n",
              "Heteroskedasticity (H):               1.38   Skew:                             0.35\n",
              "Prob(H) (two-sided):                  0.00   Kurtosis:                         8.01\n",
              "===================================================================================\n",
              "\n",
              "Warnings:\n",
              "[1] Covariance matrix calculated using the outer product of gradients (complex-step).\n",
              "\"\"\""
            ],
            "text/html": [
              "<table class=\"simpletable\">\n",
              "<caption>SARIMAX Results</caption>\n",
              "<tr>\n",
              "  <th>Dep. Variable:</th>           <td>y</td>        <th>  No. Observations:  </th>    <td>2040</td>   \n",
              "</tr>\n",
              "<tr>\n",
              "  <th>Model:</th>            <td>ARIMA(2, 1, 0)</td>  <th>  Log Likelihood     </th> <td>-11655.279</td>\n",
              "</tr>\n",
              "<tr>\n",
              "  <th>Date:</th>            <td>Tue, 30 Jan 2024</td> <th>  AIC                </th>  <td>23316.559</td>\n",
              "</tr>\n",
              "<tr>\n",
              "  <th>Time:</th>                <td>11:55:15</td>     <th>  BIC                </th>  <td>23333.419</td>\n",
              "</tr>\n",
              "<tr>\n",
              "  <th>Sample:</th>                  <td>0</td>        <th>  HQIC               </th>  <td>23322.743</td>\n",
              "</tr>\n",
              "<tr>\n",
              "  <th></th>                      <td> - 2040</td>     <th>                     </th>      <td> </td>    \n",
              "</tr>\n",
              "<tr>\n",
              "  <th>Covariance Type:</th>        <td>opg</td>       <th>                     </th>      <td> </td>    \n",
              "</tr>\n",
              "</table>\n",
              "<table class=\"simpletable\">\n",
              "<tr>\n",
              "     <td></td>       <th>coef</th>     <th>std err</th>      <th>z</th>      <th>P>|z|</th>  <th>[0.025</th>    <th>0.975]</th>  \n",
              "</tr>\n",
              "<tr>\n",
              "  <th>ar.L1</th>  <td>    0.8085</td> <td>    0.017</td> <td>   47.669</td> <td> 0.000</td> <td>    0.775</td> <td>    0.842</td>\n",
              "</tr>\n",
              "<tr>\n",
              "  <th>ar.L2</th>  <td>   -0.1908</td> <td>    0.022</td> <td>   -8.695</td> <td> 0.000</td> <td>   -0.234</td> <td>   -0.148</td>\n",
              "</tr>\n",
              "<tr>\n",
              "  <th>sigma2</th> <td> 5404.9878</td> <td>   94.753</td> <td>   57.043</td> <td> 0.000</td> <td> 5219.275</td> <td> 5590.701</td>\n",
              "</tr>\n",
              "</table>\n",
              "<table class=\"simpletable\">\n",
              "<tr>\n",
              "  <th>Ljung-Box (L1) (Q):</th>     <td>0.05</td> <th>  Jarque-Bera (JB):  </th> <td>2171.50</td>\n",
              "</tr>\n",
              "<tr>\n",
              "  <th>Prob(Q):</th>                <td>0.83</td> <th>  Prob(JB):          </th>  <td>0.00</td>  \n",
              "</tr>\n",
              "<tr>\n",
              "  <th>Heteroskedasticity (H):</th> <td>1.38</td> <th>  Skew:              </th>  <td>0.35</td>  \n",
              "</tr>\n",
              "<tr>\n",
              "  <th>Prob(H) (two-sided):</th>    <td>0.00</td> <th>  Kurtosis:          </th>  <td>8.01</td>  \n",
              "</tr>\n",
              "</table><br/><br/>Warnings:<br/>[1] Covariance matrix calculated using the outer product of gradients (complex-step)."
            ],
            "text/latex": "\\begin{center}\n\\begin{tabular}{lclc}\n\\toprule\n\\textbf{Dep. Variable:}          &        y         & \\textbf{  No. Observations:  } &    2040     \\\\\n\\textbf{Model:}                  &  ARIMA(2, 1, 0)  & \\textbf{  Log Likelihood     } & -11655.279  \\\\\n\\textbf{Date:}                   & Tue, 30 Jan 2024 & \\textbf{  AIC                } & 23316.559   \\\\\n\\textbf{Time:}                   &     11:55:15     & \\textbf{  BIC                } & 23333.419   \\\\\n\\textbf{Sample:}                 &        0         & \\textbf{  HQIC               } & 23322.743   \\\\\n\\textbf{}                        &      - 2040      & \\textbf{                     } &             \\\\\n\\textbf{Covariance Type:}        &       opg        & \\textbf{                     } &             \\\\\n\\bottomrule\n\\end{tabular}\n\\begin{tabular}{lcccccc}\n                & \\textbf{coef} & \\textbf{std err} & \\textbf{z} & \\textbf{P$> |$z$|$} & \\textbf{[0.025} & \\textbf{0.975]}  \\\\\n\\midrule\n\\textbf{ar.L1}  &       0.8085  &        0.017     &    47.669  &         0.000        &        0.775    &        0.842     \\\\\n\\textbf{ar.L2}  &      -0.1908  &        0.022     &    -8.695  &         0.000        &       -0.234    &       -0.148     \\\\\n\\textbf{sigma2} &    5404.9878  &       94.753     &    57.043  &         0.000        &     5219.275    &     5590.701     \\\\\n\\bottomrule\n\\end{tabular}\n\\begin{tabular}{lclc}\n\\textbf{Ljung-Box (L1) (Q):}     & 0.05 & \\textbf{  Jarque-Bera (JB):  } & 2171.50  \\\\\n\\textbf{Prob(Q):}                & 0.83 & \\textbf{  Prob(JB):          } &   0.00   \\\\\n\\textbf{Heteroskedasticity (H):} & 1.38 & \\textbf{  Skew:              } &   0.35   \\\\\n\\textbf{Prob(H) (two-sided):}    & 0.00 & \\textbf{  Kurtosis:          } &   8.01   \\\\\n\\bottomrule\n\\end{tabular}\n%\\caption{SARIMAX Results}\n\\end{center}\n\nWarnings: \\newline\n [1] Covariance matrix calculated using the outer product of gradients (complex-step)."
          },
          "metadata": {},
          "execution_count": 90
        }
      ]
    },
    {
      "cell_type": "markdown",
      "source": [
        "SMAPE 계산"
      ],
      "metadata": {
        "id": "d3XGuY2P_gZt"
      }
    },
    {
      "cell_type": "code",
      "source": [
        "# SMAPE 정의\n",
        "def smape(real, pred):\n",
        "  return np.mean((np.abs(real-pred))/(np.abs(real) + np.abs(pred))) * 100\n",
        "\n",
        "smape(x_series, pred)"
      ],
      "metadata": {
        "id": "n1QsVnOU-8br"
      },
      "execution_count": 91,
      "outputs": []
    },
    {
      "cell_type": "code",
      "source": [
        "# idx를 train_x_array의 행 숫자만큼 진행\n",
        "print(train_x_array.shape[0])"
      ],
      "metadata": {
        "id": "DjD5jvfvrh6K",
        "colab": {
          "base_uri": "https://localhost:8080/"
        },
        "outputId": "7d054c39-95f0-4574-fe2f-f22a43fc7bf8"
      },
      "execution_count": 93,
      "outputs": [
        {
          "output_type": "stream",
          "name": "stdout",
          "text": [
            "60\n"
          ]
        }
      ]
    },
    {
      "cell_type": "code",
      "source": [
        "# 2D zero matrix 만들어줌 (건물 수, 날짜 수)\n",
        "valid_pred_array=np.zeros([60, 168])\n",
        "# idx를 건물 수 만큼 반복(train_x_array의 행 숫자)\n",
        "for idx in range(train_x_array.shape[0]):\n",
        "    # for문으로 실행할 코드\n",
        "    try:\n",
        "        try:\n",
        "            # idx번째 건물의 날짜별 전력사용량\n",
        "            x_series=train_x_array[idx, :, 0]\n",
        "            # AR: 2, 차분:0, MA: 4 의 ARIMA 모델 생성 => AIC 가장 작은 값\n",
        "            model=ARIMA(x_series, order=(2,0,4))\n",
        "            # 모델 학습\n",
        "            fit=model.fit()\n",
        "\n",
        "            # 모델 예측 (test 데이터 날짜 168개 만큼의 전력사용량을 예측)\n",
        "            preds=fit.predict(1, 168, typ='levels')\n",
        "\n",
        "            # idx번째 건물의 예측한 값을 idx 행에 저장\n",
        "            valid_pred_array[idx, :]=preds\n",
        "\n",
        "        # 예외가 발생했을 때 : AR=4로 바꿔서 학습\n",
        "        except:\n",
        "            # idx번째 건물의 날짜별 전력사용량\n",
        "            x_series=train_x_array[idx, :, 0]\n",
        "            # AR: 3, 차분:1, MA: 2 의 ARIMA 모델 생성 => AIC 두번째 작은 값\n",
        "            model=ARIMA(x_series, order=(3,1,2))\n",
        "            # 모델 학습\n",
        "            fit=model.fit()\n",
        "\n",
        "            # 모델 예측 (test 데이터 날짜 168개 만큼의 전력사용량을 예측)\n",
        "            preds=fit.predict(1, 168, typ='levels')\n",
        "\n",
        "            # idx번째 건물의 예측한 값을 idx 행에 저장\n",
        "            valid_pred_array[idx, :]=preds\n",
        "\n",
        "\n",
        "    # 예외가 발생했을 때 실행\n",
        "    except:\n",
        "        print(idx, \"샘플은 수렴하지 않습니다.\")"
      ],
      "metadata": {
        "id": "aU6x6FwjMs6J",
        "colab": {
          "base_uri": "https://localhost:8080/"
        },
        "outputId": "d69ef9e9-f06a-4ca0-f0ae-2cdec01ffcf6"
      },
      "execution_count": 92,
      "outputs": [
        {
          "output_type": "stream",
          "name": "stderr",
          "text": [
            "/usr/local/lib/python3.10/dist-packages/statsmodels/tsa/statespace/sarimax.py:978: UserWarning: Non-invertible starting MA parameters found. Using zeros as starting parameters.\n",
            "  warn('Non-invertible starting MA parameters found.'\n",
            "/usr/local/lib/python3.10/dist-packages/statsmodels/base/model.py:607: ConvergenceWarning: Maximum Likelihood optimization failed to converge. Check mle_retvals\n",
            "  warnings.warn(\"Maximum Likelihood optimization failed to \"\n",
            "/usr/local/lib/python3.10/dist-packages/statsmodels/tsa/statespace/sarimax.py:966: UserWarning: Non-stationary starting autoregressive parameters found. Using zeros as starting parameters.\n",
            "  warn('Non-stationary starting autoregressive parameters'\n",
            "/usr/local/lib/python3.10/dist-packages/statsmodels/base/model.py:607: ConvergenceWarning: Maximum Likelihood optimization failed to converge. Check mle_retvals\n",
            "  warnings.warn(\"Maximum Likelihood optimization failed to \"\n",
            "/usr/local/lib/python3.10/dist-packages/statsmodels/base/model.py:607: ConvergenceWarning: Maximum Likelihood optimization failed to converge. Check mle_retvals\n",
            "  warnings.warn(\"Maximum Likelihood optimization failed to \"\n",
            "/usr/local/lib/python3.10/dist-packages/statsmodels/base/model.py:607: ConvergenceWarning: Maximum Likelihood optimization failed to converge. Check mle_retvals\n",
            "  warnings.warn(\"Maximum Likelihood optimization failed to \"\n",
            "/usr/local/lib/python3.10/dist-packages/statsmodels/base/model.py:607: ConvergenceWarning: Maximum Likelihood optimization failed to converge. Check mle_retvals\n",
            "  warnings.warn(\"Maximum Likelihood optimization failed to \"\n",
            "/usr/local/lib/python3.10/dist-packages/statsmodels/base/model.py:607: ConvergenceWarning: Maximum Likelihood optimization failed to converge. Check mle_retvals\n",
            "  warnings.warn(\"Maximum Likelihood optimization failed to \"\n"
          ]
        }
      ]
    },
    {
      "cell_type": "code",
      "source": [
        "valid_pred_array.shape\n",
        "\n",
        "valid_pred_array"
      ],
      "metadata": {
        "id": "vviJABm3NCxa",
        "colab": {
          "base_uri": "https://localhost:8080/"
        },
        "outputId": "757bf323-b3c0-494f-b731-4c7768a76742"
      },
      "execution_count": 94,
      "outputs": [
        {
          "output_type": "execute_result",
          "data": {
            "text/plain": [
              "array([[8192.1137719 , 8153.01653293, 8120.37033821, ..., 8626.64463024,\n",
              "        8621.15073732, 8616.24684966],\n",
              "       [ 991.85196844,  984.27159149, 1002.7794309 , ..., 1037.67487653,\n",
              "        1004.62001404, 1012.30102163],\n",
              "       [3212.1038111 , 3202.92365779, 3211.22909911, ..., 3239.62481984,\n",
              "        3232.76668692, 3232.07626268],\n",
              "       ...,\n",
              "       [ 600.71028288,  551.62332079,  557.55690795, ...,  665.09559002,\n",
              "         641.49615318,  596.72276082],\n",
              "       [ 699.0579509 ,  682.73001949,  837.20116746, ..., 1210.68826527,\n",
              "        1185.15645771,  958.93882058],\n",
              "       [2590.3743802 , 2270.68625418, 2387.07446342, ..., 3180.03800925,\n",
              "        3027.04415649, 2937.19894133]])"
            ]
          },
          "metadata": {},
          "execution_count": 94
        }
      ]
    },
    {
      "cell_type": "code",
      "source": [
        "# 3d배열 => 2d배열로 변경\n",
        "# reshape([-1,1]) => 전체행을(마지막행 index: -1)를 1열로 변경\n",
        "submission['answer']=valid_pred_array.reshape([-1,1])\n",
        "submission"
      ],
      "metadata": {
        "id": "vokd9oE9uPMe",
        "colab": {
          "base_uri": "https://localhost:8080/",
          "height": 424
        },
        "outputId": "34b4fefa-243a-49ea-bfd2-751966698735"
      },
      "execution_count": 95,
      "outputs": [
        {
          "output_type": "execute_result",
          "data": {
            "text/plain": [
              "          num_date_time       answer\n",
              "0       1 2020-08-25 00  8192.113772\n",
              "1       1 2020-08-25 01  8153.016533\n",
              "2       1 2020-08-25 02  8120.370338\n",
              "3       1 2020-08-25 03  8065.906601\n",
              "4       1 2020-08-25 04  8053.295094\n",
              "...                 ...          ...\n",
              "10075  60 2020-08-31 19  3144.793035\n",
              "10076  60 2020-08-31 20  3133.260910\n",
              "10077  60 2020-08-31 21  3180.038009\n",
              "10078  60 2020-08-31 22  3027.044156\n",
              "10079  60 2020-08-31 23  2937.198941\n",
              "\n",
              "[10080 rows x 2 columns]"
            ],
            "text/html": [
              "\n",
              "  <div id=\"df-e6ed9c14-62dc-4d5e-af5d-e8e7bc0a3b85\" class=\"colab-df-container\">\n",
              "    <div>\n",
              "<style scoped>\n",
              "    .dataframe tbody tr th:only-of-type {\n",
              "        vertical-align: middle;\n",
              "    }\n",
              "\n",
              "    .dataframe tbody tr th {\n",
              "        vertical-align: top;\n",
              "    }\n",
              "\n",
              "    .dataframe thead th {\n",
              "        text-align: right;\n",
              "    }\n",
              "</style>\n",
              "<table border=\"1\" class=\"dataframe\">\n",
              "  <thead>\n",
              "    <tr style=\"text-align: right;\">\n",
              "      <th></th>\n",
              "      <th>num_date_time</th>\n",
              "      <th>answer</th>\n",
              "    </tr>\n",
              "  </thead>\n",
              "  <tbody>\n",
              "    <tr>\n",
              "      <th>0</th>\n",
              "      <td>1 2020-08-25 00</td>\n",
              "      <td>8192.113772</td>\n",
              "    </tr>\n",
              "    <tr>\n",
              "      <th>1</th>\n",
              "      <td>1 2020-08-25 01</td>\n",
              "      <td>8153.016533</td>\n",
              "    </tr>\n",
              "    <tr>\n",
              "      <th>2</th>\n",
              "      <td>1 2020-08-25 02</td>\n",
              "      <td>8120.370338</td>\n",
              "    </tr>\n",
              "    <tr>\n",
              "      <th>3</th>\n",
              "      <td>1 2020-08-25 03</td>\n",
              "      <td>8065.906601</td>\n",
              "    </tr>\n",
              "    <tr>\n",
              "      <th>4</th>\n",
              "      <td>1 2020-08-25 04</td>\n",
              "      <td>8053.295094</td>\n",
              "    </tr>\n",
              "    <tr>\n",
              "      <th>...</th>\n",
              "      <td>...</td>\n",
              "      <td>...</td>\n",
              "    </tr>\n",
              "    <tr>\n",
              "      <th>10075</th>\n",
              "      <td>60 2020-08-31 19</td>\n",
              "      <td>3144.793035</td>\n",
              "    </tr>\n",
              "    <tr>\n",
              "      <th>10076</th>\n",
              "      <td>60 2020-08-31 20</td>\n",
              "      <td>3133.260910</td>\n",
              "    </tr>\n",
              "    <tr>\n",
              "      <th>10077</th>\n",
              "      <td>60 2020-08-31 21</td>\n",
              "      <td>3180.038009</td>\n",
              "    </tr>\n",
              "    <tr>\n",
              "      <th>10078</th>\n",
              "      <td>60 2020-08-31 22</td>\n",
              "      <td>3027.044156</td>\n",
              "    </tr>\n",
              "    <tr>\n",
              "      <th>10079</th>\n",
              "      <td>60 2020-08-31 23</td>\n",
              "      <td>2937.198941</td>\n",
              "    </tr>\n",
              "  </tbody>\n",
              "</table>\n",
              "<p>10080 rows × 2 columns</p>\n",
              "</div>\n",
              "    <div class=\"colab-df-buttons\">\n",
              "\n",
              "  <div class=\"colab-df-container\">\n",
              "    <button class=\"colab-df-convert\" onclick=\"convertToInteractive('df-e6ed9c14-62dc-4d5e-af5d-e8e7bc0a3b85')\"\n",
              "            title=\"Convert this dataframe to an interactive table.\"\n",
              "            style=\"display:none;\">\n",
              "\n",
              "  <svg xmlns=\"http://www.w3.org/2000/svg\" height=\"24px\" viewBox=\"0 -960 960 960\">\n",
              "    <path d=\"M120-120v-720h720v720H120Zm60-500h600v-160H180v160Zm220 220h160v-160H400v160Zm0 220h160v-160H400v160ZM180-400h160v-160H180v160Zm440 0h160v-160H620v160ZM180-180h160v-160H180v160Zm440 0h160v-160H620v160Z\"/>\n",
              "  </svg>\n",
              "    </button>\n",
              "\n",
              "  <style>\n",
              "    .colab-df-container {\n",
              "      display:flex;\n",
              "      gap: 12px;\n",
              "    }\n",
              "\n",
              "    .colab-df-convert {\n",
              "      background-color: #E8F0FE;\n",
              "      border: none;\n",
              "      border-radius: 50%;\n",
              "      cursor: pointer;\n",
              "      display: none;\n",
              "      fill: #1967D2;\n",
              "      height: 32px;\n",
              "      padding: 0 0 0 0;\n",
              "      width: 32px;\n",
              "    }\n",
              "\n",
              "    .colab-df-convert:hover {\n",
              "      background-color: #E2EBFA;\n",
              "      box-shadow: 0px 1px 2px rgba(60, 64, 67, 0.3), 0px 1px 3px 1px rgba(60, 64, 67, 0.15);\n",
              "      fill: #174EA6;\n",
              "    }\n",
              "\n",
              "    .colab-df-buttons div {\n",
              "      margin-bottom: 4px;\n",
              "    }\n",
              "\n",
              "    [theme=dark] .colab-df-convert {\n",
              "      background-color: #3B4455;\n",
              "      fill: #D2E3FC;\n",
              "    }\n",
              "\n",
              "    [theme=dark] .colab-df-convert:hover {\n",
              "      background-color: #434B5C;\n",
              "      box-shadow: 0px 1px 3px 1px rgba(0, 0, 0, 0.15);\n",
              "      filter: drop-shadow(0px 1px 2px rgba(0, 0, 0, 0.3));\n",
              "      fill: #FFFFFF;\n",
              "    }\n",
              "  </style>\n",
              "\n",
              "    <script>\n",
              "      const buttonEl =\n",
              "        document.querySelector('#df-e6ed9c14-62dc-4d5e-af5d-e8e7bc0a3b85 button.colab-df-convert');\n",
              "      buttonEl.style.display =\n",
              "        google.colab.kernel.accessAllowed ? 'block' : 'none';\n",
              "\n",
              "      async function convertToInteractive(key) {\n",
              "        const element = document.querySelector('#df-e6ed9c14-62dc-4d5e-af5d-e8e7bc0a3b85');\n",
              "        const dataTable =\n",
              "          await google.colab.kernel.invokeFunction('convertToInteractive',\n",
              "                                                    [key], {});\n",
              "        if (!dataTable) return;\n",
              "\n",
              "        const docLinkHtml = 'Like what you see? Visit the ' +\n",
              "          '<a target=\"_blank\" href=https://colab.research.google.com/notebooks/data_table.ipynb>data table notebook</a>'\n",
              "          + ' to learn more about interactive tables.';\n",
              "        element.innerHTML = '';\n",
              "        dataTable['output_type'] = 'display_data';\n",
              "        await google.colab.output.renderOutput(dataTable, element);\n",
              "        const docLink = document.createElement('div');\n",
              "        docLink.innerHTML = docLinkHtml;\n",
              "        element.appendChild(docLink);\n",
              "      }\n",
              "    </script>\n",
              "  </div>\n",
              "\n",
              "\n",
              "<div id=\"df-3ba0c0c3-4fdb-4cd5-90cf-41117f669aef\">\n",
              "  <button class=\"colab-df-quickchart\" onclick=\"quickchart('df-3ba0c0c3-4fdb-4cd5-90cf-41117f669aef')\"\n",
              "            title=\"Suggest charts\"\n",
              "            style=\"display:none;\">\n",
              "\n",
              "<svg xmlns=\"http://www.w3.org/2000/svg\" height=\"24px\"viewBox=\"0 0 24 24\"\n",
              "     width=\"24px\">\n",
              "    <g>\n",
              "        <path d=\"M19 3H5c-1.1 0-2 .9-2 2v14c0 1.1.9 2 2 2h14c1.1 0 2-.9 2-2V5c0-1.1-.9-2-2-2zM9 17H7v-7h2v7zm4 0h-2V7h2v10zm4 0h-2v-4h2v4z\"/>\n",
              "    </g>\n",
              "</svg>\n",
              "  </button>\n",
              "\n",
              "<style>\n",
              "  .colab-df-quickchart {\n",
              "      --bg-color: #E8F0FE;\n",
              "      --fill-color: #1967D2;\n",
              "      --hover-bg-color: #E2EBFA;\n",
              "      --hover-fill-color: #174EA6;\n",
              "      --disabled-fill-color: #AAA;\n",
              "      --disabled-bg-color: #DDD;\n",
              "  }\n",
              "\n",
              "  [theme=dark] .colab-df-quickchart {\n",
              "      --bg-color: #3B4455;\n",
              "      --fill-color: #D2E3FC;\n",
              "      --hover-bg-color: #434B5C;\n",
              "      --hover-fill-color: #FFFFFF;\n",
              "      --disabled-bg-color: #3B4455;\n",
              "      --disabled-fill-color: #666;\n",
              "  }\n",
              "\n",
              "  .colab-df-quickchart {\n",
              "    background-color: var(--bg-color);\n",
              "    border: none;\n",
              "    border-radius: 50%;\n",
              "    cursor: pointer;\n",
              "    display: none;\n",
              "    fill: var(--fill-color);\n",
              "    height: 32px;\n",
              "    padding: 0;\n",
              "    width: 32px;\n",
              "  }\n",
              "\n",
              "  .colab-df-quickchart:hover {\n",
              "    background-color: var(--hover-bg-color);\n",
              "    box-shadow: 0 1px 2px rgba(60, 64, 67, 0.3), 0 1px 3px 1px rgba(60, 64, 67, 0.15);\n",
              "    fill: var(--button-hover-fill-color);\n",
              "  }\n",
              "\n",
              "  .colab-df-quickchart-complete:disabled,\n",
              "  .colab-df-quickchart-complete:disabled:hover {\n",
              "    background-color: var(--disabled-bg-color);\n",
              "    fill: var(--disabled-fill-color);\n",
              "    box-shadow: none;\n",
              "  }\n",
              "\n",
              "  .colab-df-spinner {\n",
              "    border: 2px solid var(--fill-color);\n",
              "    border-color: transparent;\n",
              "    border-bottom-color: var(--fill-color);\n",
              "    animation:\n",
              "      spin 1s steps(1) infinite;\n",
              "  }\n",
              "\n",
              "  @keyframes spin {\n",
              "    0% {\n",
              "      border-color: transparent;\n",
              "      border-bottom-color: var(--fill-color);\n",
              "      border-left-color: var(--fill-color);\n",
              "    }\n",
              "    20% {\n",
              "      border-color: transparent;\n",
              "      border-left-color: var(--fill-color);\n",
              "      border-top-color: var(--fill-color);\n",
              "    }\n",
              "    30% {\n",
              "      border-color: transparent;\n",
              "      border-left-color: var(--fill-color);\n",
              "      border-top-color: var(--fill-color);\n",
              "      border-right-color: var(--fill-color);\n",
              "    }\n",
              "    40% {\n",
              "      border-color: transparent;\n",
              "      border-right-color: var(--fill-color);\n",
              "      border-top-color: var(--fill-color);\n",
              "    }\n",
              "    60% {\n",
              "      border-color: transparent;\n",
              "      border-right-color: var(--fill-color);\n",
              "    }\n",
              "    80% {\n",
              "      border-color: transparent;\n",
              "      border-right-color: var(--fill-color);\n",
              "      border-bottom-color: var(--fill-color);\n",
              "    }\n",
              "    90% {\n",
              "      border-color: transparent;\n",
              "      border-bottom-color: var(--fill-color);\n",
              "    }\n",
              "  }\n",
              "</style>\n",
              "\n",
              "  <script>\n",
              "    async function quickchart(key) {\n",
              "      const quickchartButtonEl =\n",
              "        document.querySelector('#' + key + ' button');\n",
              "      quickchartButtonEl.disabled = true;  // To prevent multiple clicks.\n",
              "      quickchartButtonEl.classList.add('colab-df-spinner');\n",
              "      try {\n",
              "        const charts = await google.colab.kernel.invokeFunction(\n",
              "            'suggestCharts', [key], {});\n",
              "      } catch (error) {\n",
              "        console.error('Error during call to suggestCharts:', error);\n",
              "      }\n",
              "      quickchartButtonEl.classList.remove('colab-df-spinner');\n",
              "      quickchartButtonEl.classList.add('colab-df-quickchart-complete');\n",
              "    }\n",
              "    (() => {\n",
              "      let quickchartButtonEl =\n",
              "        document.querySelector('#df-3ba0c0c3-4fdb-4cd5-90cf-41117f669aef button');\n",
              "      quickchartButtonEl.style.display =\n",
              "        google.colab.kernel.accessAllowed ? 'block' : 'none';\n",
              "    })();\n",
              "  </script>\n",
              "</div>\n",
              "\n",
              "  <div id=\"id_85c044ec-8d37-4c7c-8593-86161e20e463\">\n",
              "    <style>\n",
              "      .colab-df-generate {\n",
              "        background-color: #E8F0FE;\n",
              "        border: none;\n",
              "        border-radius: 50%;\n",
              "        cursor: pointer;\n",
              "        display: none;\n",
              "        fill: #1967D2;\n",
              "        height: 32px;\n",
              "        padding: 0 0 0 0;\n",
              "        width: 32px;\n",
              "      }\n",
              "\n",
              "      .colab-df-generate:hover {\n",
              "        background-color: #E2EBFA;\n",
              "        box-shadow: 0px 1px 2px rgba(60, 64, 67, 0.3), 0px 1px 3px 1px rgba(60, 64, 67, 0.15);\n",
              "        fill: #174EA6;\n",
              "      }\n",
              "\n",
              "      [theme=dark] .colab-df-generate {\n",
              "        background-color: #3B4455;\n",
              "        fill: #D2E3FC;\n",
              "      }\n",
              "\n",
              "      [theme=dark] .colab-df-generate:hover {\n",
              "        background-color: #434B5C;\n",
              "        box-shadow: 0px 1px 3px 1px rgba(0, 0, 0, 0.15);\n",
              "        filter: drop-shadow(0px 1px 2px rgba(0, 0, 0, 0.3));\n",
              "        fill: #FFFFFF;\n",
              "      }\n",
              "    </style>\n",
              "    <button class=\"colab-df-generate\" onclick=\"generateWithVariable('submission')\"\n",
              "            title=\"Generate code using this dataframe.\"\n",
              "            style=\"display:none;\">\n",
              "\n",
              "  <svg xmlns=\"http://www.w3.org/2000/svg\" height=\"24px\"viewBox=\"0 0 24 24\"\n",
              "       width=\"24px\">\n",
              "    <path d=\"M7,19H8.4L18.45,9,17,7.55,7,17.6ZM5,21V16.75L18.45,3.32a2,2,0,0,1,2.83,0l1.4,1.43a1.91,1.91,0,0,1,.58,1.4,1.91,1.91,0,0,1-.58,1.4L9.25,21ZM18.45,9,17,7.55Zm-12,3A5.31,5.31,0,0,0,4.9,8.1,5.31,5.31,0,0,0,1,6.5,5.31,5.31,0,0,0,4.9,4.9,5.31,5.31,0,0,0,6.5,1,5.31,5.31,0,0,0,8.1,4.9,5.31,5.31,0,0,0,12,6.5,5.46,5.46,0,0,0,6.5,12Z\"/>\n",
              "  </svg>\n",
              "    </button>\n",
              "    <script>\n",
              "      (() => {\n",
              "      const buttonEl =\n",
              "        document.querySelector('#id_85c044ec-8d37-4c7c-8593-86161e20e463 button.colab-df-generate');\n",
              "      buttonEl.style.display =\n",
              "        google.colab.kernel.accessAllowed ? 'block' : 'none';\n",
              "\n",
              "      buttonEl.onclick = () => {\n",
              "        google.colab.notebook.generateWithVariable('submission');\n",
              "      }\n",
              "      })();\n",
              "    </script>\n",
              "  </div>\n",
              "\n",
              "    </div>\n",
              "  </div>\n"
            ]
          },
          "metadata": {},
          "execution_count": 95
        }
      ]
    },
    {
      "cell_type": "code",
      "source": [
        "submission.to_csv('sample_submission.csv', index=False)"
      ],
      "metadata": {
        "id": "_qrkqk7luYOX"
      },
      "execution_count": 99,
      "outputs": []
    }
  ]
}